{
 "cells": [
  {
   "cell_type": "code",
   "execution_count": 1,
   "id": "d494784d",
   "metadata": {
    "_cell_guid": "b1076dfc-b9ad-4769-8c92-a6c4dae69d19",
    "_uuid": "8f2839f25d086af736a60e9eeb907d3b93b6e0e5",
    "execution": {
     "iopub.execute_input": "2023-06-18T16:58:41.041211Z",
     "iopub.status.busy": "2023-06-18T16:58:41.040835Z",
     "iopub.status.idle": "2023-06-18T16:58:41.055395Z",
     "shell.execute_reply": "2023-06-18T16:58:41.054560Z"
    },
    "papermill": {
     "duration": 0.03209,
     "end_time": "2023-06-18T16:58:41.057740",
     "exception": false,
     "start_time": "2023-06-18T16:58:41.025650",
     "status": "completed"
    },
    "tags": []
   },
   "outputs": [
    {
     "name": "stdout",
     "output_type": "stream",
     "text": [
      "/kaggle/input/playground-series-s3e13/sample_submission.csv\n",
      "/kaggle/input/playground-series-s3e13/train.csv\n",
      "/kaggle/input/playground-series-s3e13/test.csv\n"
     ]
    }
   ],
   "source": [
    "# This Python 3 environment comes with many helpful analytics libraries installed\n",
    "# It is defined by the kaggle/python Docker image: https://github.com/kaggle/docker-python\n",
    "# For example, here's several helpful packages to load\n",
    "\n",
    "import numpy as np # linear algebra\n",
    "import pandas as pd # data processing, CSV file I/O (e.g. pd.read_csv)\n",
    "\n",
    "# Input data files are available in the read-only \"../input/\" directory\n",
    "# For example, running this (by clicking run or pressing Shift+Enter) will list all files under the input directory\n",
    "\n",
    "import os\n",
    "for dirname, _, filenames in os.walk('/kaggle/input'):\n",
    "    for filename in filenames:\n",
    "        print(os.path.join(dirname, filename))\n",
    "\n",
    "# You can write up to 20GB to the current directory (/kaggle/working/) that gets preserved as output when you create a version using \"Save & Run All\" \n",
    "# You can also write temporary files to /kaggle/temp/, but they won't be saved outside of the current session"
   ]
  },
  {
   "cell_type": "code",
   "execution_count": 2,
   "id": "2812c14c",
   "metadata": {
    "execution": {
     "iopub.execute_input": "2023-06-18T16:58:41.083174Z",
     "iopub.status.busy": "2023-06-18T16:58:41.082397Z",
     "iopub.status.idle": "2023-06-18T16:58:41.119126Z",
     "shell.execute_reply": "2023-06-18T16:58:41.117834Z"
    },
    "papermill": {
     "duration": 0.052547,
     "end_time": "2023-06-18T16:58:41.121815",
     "exception": false,
     "start_time": "2023-06-18T16:58:41.069268",
     "status": "completed"
    },
    "tags": []
   },
   "outputs": [],
   "source": [
    "df = pd.read_csv(\"/kaggle/input/playground-series-s3e13/train.csv\")"
   ]
  },
  {
   "cell_type": "code",
   "execution_count": 3,
   "id": "cce4dd64",
   "metadata": {
    "execution": {
     "iopub.execute_input": "2023-06-18T16:58:41.146773Z",
     "iopub.status.busy": "2023-06-18T16:58:41.146004Z",
     "iopub.status.idle": "2023-06-18T16:58:41.358384Z",
     "shell.execute_reply": "2023-06-18T16:58:41.357555Z"
    },
    "papermill": {
     "duration": 0.227568,
     "end_time": "2023-06-18T16:58:41.360874",
     "exception": false,
     "start_time": "2023-06-18T16:58:41.133306",
     "status": "completed"
    },
    "tags": []
   },
   "outputs": [
    {
     "data": {
      "text/html": [
       "<div>\n",
       "<style scoped>\n",
       "    .dataframe tbody tr th:only-of-type {\n",
       "        vertical-align: middle;\n",
       "    }\n",
       "\n",
       "    .dataframe tbody tr th {\n",
       "        vertical-align: top;\n",
       "    }\n",
       "\n",
       "    .dataframe thead th {\n",
       "        text-align: right;\n",
       "    }\n",
       "</style>\n",
       "<table border=\"1\" class=\"dataframe\">\n",
       "  <thead>\n",
       "    <tr style=\"text-align: right;\">\n",
       "      <th></th>\n",
       "      <th>id</th>\n",
       "      <th>sudden_fever</th>\n",
       "      <th>headache</th>\n",
       "      <th>mouth_bleed</th>\n",
       "      <th>nose_bleed</th>\n",
       "      <th>muscle_pain</th>\n",
       "      <th>joint_pain</th>\n",
       "      <th>vomiting</th>\n",
       "      <th>rash</th>\n",
       "      <th>diarrhea</th>\n",
       "      <th>...</th>\n",
       "      <th>lymph_swells</th>\n",
       "      <th>breathing_restriction</th>\n",
       "      <th>toe_inflammation</th>\n",
       "      <th>finger_inflammation</th>\n",
       "      <th>lips_irritation</th>\n",
       "      <th>itchiness</th>\n",
       "      <th>ulcers</th>\n",
       "      <th>toenail_loss</th>\n",
       "      <th>speech_problem</th>\n",
       "      <th>bullseye_rash</th>\n",
       "    </tr>\n",
       "  </thead>\n",
       "  <tbody>\n",
       "    <tr>\n",
       "      <th>count</th>\n",
       "      <td>707.000000</td>\n",
       "      <td>707.000000</td>\n",
       "      <td>707.000000</td>\n",
       "      <td>707.000000</td>\n",
       "      <td>707.000000</td>\n",
       "      <td>707.000000</td>\n",
       "      <td>707.000000</td>\n",
       "      <td>707.000000</td>\n",
       "      <td>707.000000</td>\n",
       "      <td>707.000000</td>\n",
       "      <td>...</td>\n",
       "      <td>707.000000</td>\n",
       "      <td>707.000000</td>\n",
       "      <td>707.000000</td>\n",
       "      <td>707.000000</td>\n",
       "      <td>707.000000</td>\n",
       "      <td>707.000000</td>\n",
       "      <td>707.000000</td>\n",
       "      <td>707.000000</td>\n",
       "      <td>707.000000</td>\n",
       "      <td>707.000000</td>\n",
       "    </tr>\n",
       "    <tr>\n",
       "      <th>mean</th>\n",
       "      <td>353.000000</td>\n",
       "      <td>0.503536</td>\n",
       "      <td>0.449788</td>\n",
       "      <td>0.459689</td>\n",
       "      <td>0.487977</td>\n",
       "      <td>0.517680</td>\n",
       "      <td>0.449788</td>\n",
       "      <td>0.441301</td>\n",
       "      <td>0.487977</td>\n",
       "      <td>0.390382</td>\n",
       "      <td>...</td>\n",
       "      <td>0.148515</td>\n",
       "      <td>0.072136</td>\n",
       "      <td>0.097595</td>\n",
       "      <td>0.079208</td>\n",
       "      <td>0.084866</td>\n",
       "      <td>0.154173</td>\n",
       "      <td>0.144272</td>\n",
       "      <td>0.137199</td>\n",
       "      <td>0.032532</td>\n",
       "      <td>0.031117</td>\n",
       "    </tr>\n",
       "    <tr>\n",
       "      <th>std</th>\n",
       "      <td>204.237607</td>\n",
       "      <td>0.500341</td>\n",
       "      <td>0.497825</td>\n",
       "      <td>0.498725</td>\n",
       "      <td>0.500209</td>\n",
       "      <td>0.500041</td>\n",
       "      <td>0.497825</td>\n",
       "      <td>0.496894</td>\n",
       "      <td>0.500209</td>\n",
       "      <td>0.488181</td>\n",
       "      <td>...</td>\n",
       "      <td>0.355861</td>\n",
       "      <td>0.258896</td>\n",
       "      <td>0.296977</td>\n",
       "      <td>0.270254</td>\n",
       "      <td>0.278879</td>\n",
       "      <td>0.361370</td>\n",
       "      <td>0.351614</td>\n",
       "      <td>0.344301</td>\n",
       "      <td>0.177533</td>\n",
       "      <td>0.173758</td>\n",
       "    </tr>\n",
       "    <tr>\n",
       "      <th>min</th>\n",
       "      <td>0.000000</td>\n",
       "      <td>0.000000</td>\n",
       "      <td>0.000000</td>\n",
       "      <td>0.000000</td>\n",
       "      <td>0.000000</td>\n",
       "      <td>0.000000</td>\n",
       "      <td>0.000000</td>\n",
       "      <td>0.000000</td>\n",
       "      <td>0.000000</td>\n",
       "      <td>0.000000</td>\n",
       "      <td>...</td>\n",
       "      <td>0.000000</td>\n",
       "      <td>0.000000</td>\n",
       "      <td>0.000000</td>\n",
       "      <td>0.000000</td>\n",
       "      <td>0.000000</td>\n",
       "      <td>0.000000</td>\n",
       "      <td>0.000000</td>\n",
       "      <td>0.000000</td>\n",
       "      <td>0.000000</td>\n",
       "      <td>0.000000</td>\n",
       "    </tr>\n",
       "    <tr>\n",
       "      <th>25%</th>\n",
       "      <td>176.500000</td>\n",
       "      <td>0.000000</td>\n",
       "      <td>0.000000</td>\n",
       "      <td>0.000000</td>\n",
       "      <td>0.000000</td>\n",
       "      <td>0.000000</td>\n",
       "      <td>0.000000</td>\n",
       "      <td>0.000000</td>\n",
       "      <td>0.000000</td>\n",
       "      <td>0.000000</td>\n",
       "      <td>...</td>\n",
       "      <td>0.000000</td>\n",
       "      <td>0.000000</td>\n",
       "      <td>0.000000</td>\n",
       "      <td>0.000000</td>\n",
       "      <td>0.000000</td>\n",
       "      <td>0.000000</td>\n",
       "      <td>0.000000</td>\n",
       "      <td>0.000000</td>\n",
       "      <td>0.000000</td>\n",
       "      <td>0.000000</td>\n",
       "    </tr>\n",
       "    <tr>\n",
       "      <th>50%</th>\n",
       "      <td>353.000000</td>\n",
       "      <td>1.000000</td>\n",
       "      <td>0.000000</td>\n",
       "      <td>0.000000</td>\n",
       "      <td>0.000000</td>\n",
       "      <td>1.000000</td>\n",
       "      <td>0.000000</td>\n",
       "      <td>0.000000</td>\n",
       "      <td>0.000000</td>\n",
       "      <td>0.000000</td>\n",
       "      <td>...</td>\n",
       "      <td>0.000000</td>\n",
       "      <td>0.000000</td>\n",
       "      <td>0.000000</td>\n",
       "      <td>0.000000</td>\n",
       "      <td>0.000000</td>\n",
       "      <td>0.000000</td>\n",
       "      <td>0.000000</td>\n",
       "      <td>0.000000</td>\n",
       "      <td>0.000000</td>\n",
       "      <td>0.000000</td>\n",
       "    </tr>\n",
       "    <tr>\n",
       "      <th>75%</th>\n",
       "      <td>529.500000</td>\n",
       "      <td>1.000000</td>\n",
       "      <td>1.000000</td>\n",
       "      <td>1.000000</td>\n",
       "      <td>1.000000</td>\n",
       "      <td>1.000000</td>\n",
       "      <td>1.000000</td>\n",
       "      <td>1.000000</td>\n",
       "      <td>1.000000</td>\n",
       "      <td>1.000000</td>\n",
       "      <td>...</td>\n",
       "      <td>0.000000</td>\n",
       "      <td>0.000000</td>\n",
       "      <td>0.000000</td>\n",
       "      <td>0.000000</td>\n",
       "      <td>0.000000</td>\n",
       "      <td>0.000000</td>\n",
       "      <td>0.000000</td>\n",
       "      <td>0.000000</td>\n",
       "      <td>0.000000</td>\n",
       "      <td>0.000000</td>\n",
       "    </tr>\n",
       "    <tr>\n",
       "      <th>max</th>\n",
       "      <td>706.000000</td>\n",
       "      <td>1.000000</td>\n",
       "      <td>1.000000</td>\n",
       "      <td>1.000000</td>\n",
       "      <td>1.000000</td>\n",
       "      <td>1.000000</td>\n",
       "      <td>1.000000</td>\n",
       "      <td>1.000000</td>\n",
       "      <td>1.000000</td>\n",
       "      <td>1.000000</td>\n",
       "      <td>...</td>\n",
       "      <td>1.000000</td>\n",
       "      <td>1.000000</td>\n",
       "      <td>1.000000</td>\n",
       "      <td>1.000000</td>\n",
       "      <td>1.000000</td>\n",
       "      <td>1.000000</td>\n",
       "      <td>1.000000</td>\n",
       "      <td>1.000000</td>\n",
       "      <td>1.000000</td>\n",
       "      <td>1.000000</td>\n",
       "    </tr>\n",
       "  </tbody>\n",
       "</table>\n",
       "<p>8 rows × 65 columns</p>\n",
       "</div>"
      ],
      "text/plain": [
       "               id  sudden_fever    headache  mouth_bleed  nose_bleed  \\\n",
       "count  707.000000    707.000000  707.000000   707.000000  707.000000   \n",
       "mean   353.000000      0.503536    0.449788     0.459689    0.487977   \n",
       "std    204.237607      0.500341    0.497825     0.498725    0.500209   \n",
       "min      0.000000      0.000000    0.000000     0.000000    0.000000   \n",
       "25%    176.500000      0.000000    0.000000     0.000000    0.000000   \n",
       "50%    353.000000      1.000000    0.000000     0.000000    0.000000   \n",
       "75%    529.500000      1.000000    1.000000     1.000000    1.000000   \n",
       "max    706.000000      1.000000    1.000000     1.000000    1.000000   \n",
       "\n",
       "       muscle_pain  joint_pain    vomiting        rash    diarrhea  ...  \\\n",
       "count   707.000000  707.000000  707.000000  707.000000  707.000000  ...   \n",
       "mean      0.517680    0.449788    0.441301    0.487977    0.390382  ...   \n",
       "std       0.500041    0.497825    0.496894    0.500209    0.488181  ...   \n",
       "min       0.000000    0.000000    0.000000    0.000000    0.000000  ...   \n",
       "25%       0.000000    0.000000    0.000000    0.000000    0.000000  ...   \n",
       "50%       1.000000    0.000000    0.000000    0.000000    0.000000  ...   \n",
       "75%       1.000000    1.000000    1.000000    1.000000    1.000000  ...   \n",
       "max       1.000000    1.000000    1.000000    1.000000    1.000000  ...   \n",
       "\n",
       "       lymph_swells  breathing_restriction  toe_inflammation  \\\n",
       "count    707.000000             707.000000        707.000000   \n",
       "mean       0.148515               0.072136          0.097595   \n",
       "std        0.355861               0.258896          0.296977   \n",
       "min        0.000000               0.000000          0.000000   \n",
       "25%        0.000000               0.000000          0.000000   \n",
       "50%        0.000000               0.000000          0.000000   \n",
       "75%        0.000000               0.000000          0.000000   \n",
       "max        1.000000               1.000000          1.000000   \n",
       "\n",
       "       finger_inflammation  lips_irritation   itchiness      ulcers  \\\n",
       "count           707.000000       707.000000  707.000000  707.000000   \n",
       "mean              0.079208         0.084866    0.154173    0.144272   \n",
       "std               0.270254         0.278879    0.361370    0.351614   \n",
       "min               0.000000         0.000000    0.000000    0.000000   \n",
       "25%               0.000000         0.000000    0.000000    0.000000   \n",
       "50%               0.000000         0.000000    0.000000    0.000000   \n",
       "75%               0.000000         0.000000    0.000000    0.000000   \n",
       "max               1.000000         1.000000    1.000000    1.000000   \n",
       "\n",
       "       toenail_loss  speech_problem  bullseye_rash  \n",
       "count    707.000000      707.000000     707.000000  \n",
       "mean       0.137199        0.032532       0.031117  \n",
       "std        0.344301        0.177533       0.173758  \n",
       "min        0.000000        0.000000       0.000000  \n",
       "25%        0.000000        0.000000       0.000000  \n",
       "50%        0.000000        0.000000       0.000000  \n",
       "75%        0.000000        0.000000       0.000000  \n",
       "max        1.000000        1.000000       1.000000  \n",
       "\n",
       "[8 rows x 65 columns]"
      ]
     },
     "execution_count": 3,
     "metadata": {},
     "output_type": "execute_result"
    }
   ],
   "source": [
    "df.describe()"
   ]
  },
  {
   "cell_type": "code",
   "execution_count": 4,
   "id": "6fa83a12",
   "metadata": {
    "execution": {
     "iopub.execute_input": "2023-06-18T16:58:41.387131Z",
     "iopub.status.busy": "2023-06-18T16:58:41.386436Z",
     "iopub.status.idle": "2023-06-18T16:58:41.414577Z",
     "shell.execute_reply": "2023-06-18T16:58:41.413274Z"
    },
    "papermill": {
     "duration": 0.044505,
     "end_time": "2023-06-18T16:58:41.417427",
     "exception": false,
     "start_time": "2023-06-18T16:58:41.372922",
     "status": "completed"
    },
    "tags": []
   },
   "outputs": [
    {
     "name": "stdout",
     "output_type": "stream",
     "text": [
      "<class 'pandas.core.frame.DataFrame'>\n",
      "RangeIndex: 707 entries, 0 to 706\n",
      "Data columns (total 66 columns):\n",
      " #   Column                 Non-Null Count  Dtype  \n",
      "---  ------                 --------------  -----  \n",
      " 0   id                     707 non-null    int64  \n",
      " 1   sudden_fever           707 non-null    float64\n",
      " 2   headache               707 non-null    float64\n",
      " 3   mouth_bleed            707 non-null    float64\n",
      " 4   nose_bleed             707 non-null    float64\n",
      " 5   muscle_pain            707 non-null    float64\n",
      " 6   joint_pain             707 non-null    float64\n",
      " 7   vomiting               707 non-null    float64\n",
      " 8   rash                   707 non-null    float64\n",
      " 9   diarrhea               707 non-null    float64\n",
      " 10  hypotension            707 non-null    float64\n",
      " 11  pleural_effusion       707 non-null    float64\n",
      " 12  ascites                707 non-null    float64\n",
      " 13  gastro_bleeding        707 non-null    float64\n",
      " 14  swelling               707 non-null    float64\n",
      " 15  nausea                 707 non-null    float64\n",
      " 16  chills                 707 non-null    float64\n",
      " 17  myalgia                707 non-null    float64\n",
      " 18  digestion_trouble      707 non-null    float64\n",
      " 19  fatigue                707 non-null    float64\n",
      " 20  skin_lesions           707 non-null    float64\n",
      " 21  stomach_pain           707 non-null    float64\n",
      " 22  orbital_pain           707 non-null    float64\n",
      " 23  neck_pain              707 non-null    float64\n",
      " 24  weakness               707 non-null    float64\n",
      " 25  back_pain              707 non-null    float64\n",
      " 26  weight_loss            707 non-null    float64\n",
      " 27  gum_bleed              707 non-null    float64\n",
      " 28  jaundice               707 non-null    float64\n",
      " 29  coma                   707 non-null    float64\n",
      " 30  diziness               707 non-null    float64\n",
      " 31  inflammation           707 non-null    float64\n",
      " 32  red_eyes               707 non-null    float64\n",
      " 33  loss_of_appetite       707 non-null    float64\n",
      " 34  urination_loss         707 non-null    float64\n",
      " 35  slow_heart_rate        707 non-null    float64\n",
      " 36  abdominal_pain         707 non-null    float64\n",
      " 37  light_sensitivity      707 non-null    float64\n",
      " 38  yellow_skin            707 non-null    float64\n",
      " 39  yellow_eyes            707 non-null    float64\n",
      " 40  facial_distortion      707 non-null    float64\n",
      " 41  microcephaly           707 non-null    float64\n",
      " 42  rigor                  707 non-null    float64\n",
      " 43  bitter_tongue          707 non-null    float64\n",
      " 44  convulsion             707 non-null    float64\n",
      " 45  anemia                 707 non-null    float64\n",
      " 46  cocacola_urine         707 non-null    float64\n",
      " 47  hypoglycemia           707 non-null    float64\n",
      " 48  prostraction           707 non-null    float64\n",
      " 49  hyperpyrexia           707 non-null    float64\n",
      " 50  stiff_neck             707 non-null    float64\n",
      " 51  irritability           707 non-null    float64\n",
      " 52  confusion              707 non-null    float64\n",
      " 53  tremor                 707 non-null    float64\n",
      " 54  paralysis              707 non-null    float64\n",
      " 55  lymph_swells           707 non-null    float64\n",
      " 56  breathing_restriction  707 non-null    float64\n",
      " 57  toe_inflammation       707 non-null    float64\n",
      " 58  finger_inflammation    707 non-null    float64\n",
      " 59  lips_irritation        707 non-null    float64\n",
      " 60  itchiness              707 non-null    float64\n",
      " 61  ulcers                 707 non-null    float64\n",
      " 62  toenail_loss           707 non-null    float64\n",
      " 63  speech_problem         707 non-null    float64\n",
      " 64  bullseye_rash          707 non-null    float64\n",
      " 65  prognosis              707 non-null    object \n",
      "dtypes: float64(64), int64(1), object(1)\n",
      "memory usage: 364.7+ KB\n"
     ]
    }
   ],
   "source": [
    "df.info()"
   ]
  },
  {
   "cell_type": "code",
   "execution_count": 5,
   "id": "42033f9d",
   "metadata": {
    "execution": {
     "iopub.execute_input": "2023-06-18T16:58:41.445139Z",
     "iopub.status.busy": "2023-06-18T16:58:41.444740Z",
     "iopub.status.idle": "2023-06-18T16:58:41.493087Z",
     "shell.execute_reply": "2023-06-18T16:58:41.492060Z"
    },
    "papermill": {
     "duration": 0.065434,
     "end_time": "2023-06-18T16:58:41.495543",
     "exception": false,
     "start_time": "2023-06-18T16:58:41.430109",
     "status": "completed"
    },
    "tags": []
   },
   "outputs": [
    {
     "data": {
      "text/html": [
       "<div>\n",
       "<style scoped>\n",
       "    .dataframe tbody tr th:only-of-type {\n",
       "        vertical-align: middle;\n",
       "    }\n",
       "\n",
       "    .dataframe tbody tr th {\n",
       "        vertical-align: top;\n",
       "    }\n",
       "\n",
       "    .dataframe thead th {\n",
       "        text-align: right;\n",
       "    }\n",
       "</style>\n",
       "<table border=\"1\" class=\"dataframe\">\n",
       "  <thead>\n",
       "    <tr style=\"text-align: right;\">\n",
       "      <th></th>\n",
       "      <th>id</th>\n",
       "      <th>sudden_fever</th>\n",
       "      <th>headache</th>\n",
       "      <th>mouth_bleed</th>\n",
       "      <th>nose_bleed</th>\n",
       "      <th>muscle_pain</th>\n",
       "      <th>joint_pain</th>\n",
       "      <th>vomiting</th>\n",
       "      <th>rash</th>\n",
       "      <th>diarrhea</th>\n",
       "      <th>...</th>\n",
       "      <th>breathing_restriction</th>\n",
       "      <th>toe_inflammation</th>\n",
       "      <th>finger_inflammation</th>\n",
       "      <th>lips_irritation</th>\n",
       "      <th>itchiness</th>\n",
       "      <th>ulcers</th>\n",
       "      <th>toenail_loss</th>\n",
       "      <th>speech_problem</th>\n",
       "      <th>bullseye_rash</th>\n",
       "      <th>prognosis</th>\n",
       "    </tr>\n",
       "  </thead>\n",
       "  <tbody>\n",
       "    <tr>\n",
       "      <th>0</th>\n",
       "      <td>0</td>\n",
       "      <td>1.0</td>\n",
       "      <td>1.0</td>\n",
       "      <td>0.0</td>\n",
       "      <td>1.0</td>\n",
       "      <td>1.0</td>\n",
       "      <td>1.0</td>\n",
       "      <td>1.0</td>\n",
       "      <td>0.0</td>\n",
       "      <td>1.0</td>\n",
       "      <td>...</td>\n",
       "      <td>0.0</td>\n",
       "      <td>0.0</td>\n",
       "      <td>0.0</td>\n",
       "      <td>0.0</td>\n",
       "      <td>0.0</td>\n",
       "      <td>0.0</td>\n",
       "      <td>0.0</td>\n",
       "      <td>0.0</td>\n",
       "      <td>0.0</td>\n",
       "      <td>Lyme_disease</td>\n",
       "    </tr>\n",
       "    <tr>\n",
       "      <th>1</th>\n",
       "      <td>1</td>\n",
       "      <td>0.0</td>\n",
       "      <td>0.0</td>\n",
       "      <td>0.0</td>\n",
       "      <td>0.0</td>\n",
       "      <td>0.0</td>\n",
       "      <td>0.0</td>\n",
       "      <td>1.0</td>\n",
       "      <td>0.0</td>\n",
       "      <td>1.0</td>\n",
       "      <td>...</td>\n",
       "      <td>0.0</td>\n",
       "      <td>0.0</td>\n",
       "      <td>0.0</td>\n",
       "      <td>0.0</td>\n",
       "      <td>0.0</td>\n",
       "      <td>0.0</td>\n",
       "      <td>0.0</td>\n",
       "      <td>0.0</td>\n",
       "      <td>0.0</td>\n",
       "      <td>Tungiasis</td>\n",
       "    </tr>\n",
       "    <tr>\n",
       "      <th>2</th>\n",
       "      <td>2</td>\n",
       "      <td>0.0</td>\n",
       "      <td>1.0</td>\n",
       "      <td>1.0</td>\n",
       "      <td>1.0</td>\n",
       "      <td>0.0</td>\n",
       "      <td>1.0</td>\n",
       "      <td>1.0</td>\n",
       "      <td>1.0</td>\n",
       "      <td>1.0</td>\n",
       "      <td>...</td>\n",
       "      <td>1.0</td>\n",
       "      <td>1.0</td>\n",
       "      <td>1.0</td>\n",
       "      <td>1.0</td>\n",
       "      <td>1.0</td>\n",
       "      <td>0.0</td>\n",
       "      <td>1.0</td>\n",
       "      <td>1.0</td>\n",
       "      <td>1.0</td>\n",
       "      <td>Lyme_disease</td>\n",
       "    </tr>\n",
       "    <tr>\n",
       "      <th>3</th>\n",
       "      <td>3</td>\n",
       "      <td>0.0</td>\n",
       "      <td>0.0</td>\n",
       "      <td>1.0</td>\n",
       "      <td>1.0</td>\n",
       "      <td>1.0</td>\n",
       "      <td>1.0</td>\n",
       "      <td>0.0</td>\n",
       "      <td>1.0</td>\n",
       "      <td>0.0</td>\n",
       "      <td>...</td>\n",
       "      <td>0.0</td>\n",
       "      <td>0.0</td>\n",
       "      <td>0.0</td>\n",
       "      <td>0.0</td>\n",
       "      <td>0.0</td>\n",
       "      <td>0.0</td>\n",
       "      <td>0.0</td>\n",
       "      <td>0.0</td>\n",
       "      <td>0.0</td>\n",
       "      <td>Zika</td>\n",
       "    </tr>\n",
       "    <tr>\n",
       "      <th>4</th>\n",
       "      <td>4</td>\n",
       "      <td>0.0</td>\n",
       "      <td>0.0</td>\n",
       "      <td>0.0</td>\n",
       "      <td>0.0</td>\n",
       "      <td>0.0</td>\n",
       "      <td>0.0</td>\n",
       "      <td>0.0</td>\n",
       "      <td>0.0</td>\n",
       "      <td>1.0</td>\n",
       "      <td>...</td>\n",
       "      <td>0.0</td>\n",
       "      <td>1.0</td>\n",
       "      <td>0.0</td>\n",
       "      <td>0.0</td>\n",
       "      <td>1.0</td>\n",
       "      <td>1.0</td>\n",
       "      <td>1.0</td>\n",
       "      <td>0.0</td>\n",
       "      <td>0.0</td>\n",
       "      <td>Rift_Valley_fever</td>\n",
       "    </tr>\n",
       "    <tr>\n",
       "      <th>5</th>\n",
       "      <td>5</td>\n",
       "      <td>1.0</td>\n",
       "      <td>1.0</td>\n",
       "      <td>1.0</td>\n",
       "      <td>1.0</td>\n",
       "      <td>0.0</td>\n",
       "      <td>0.0</td>\n",
       "      <td>1.0</td>\n",
       "      <td>1.0</td>\n",
       "      <td>0.0</td>\n",
       "      <td>...</td>\n",
       "      <td>1.0</td>\n",
       "      <td>1.0</td>\n",
       "      <td>1.0</td>\n",
       "      <td>1.0</td>\n",
       "      <td>0.0</td>\n",
       "      <td>0.0</td>\n",
       "      <td>0.0</td>\n",
       "      <td>0.0</td>\n",
       "      <td>0.0</td>\n",
       "      <td>Lyme_disease</td>\n",
       "    </tr>\n",
       "    <tr>\n",
       "      <th>6</th>\n",
       "      <td>6</td>\n",
       "      <td>1.0</td>\n",
       "      <td>0.0</td>\n",
       "      <td>0.0</td>\n",
       "      <td>1.0</td>\n",
       "      <td>1.0</td>\n",
       "      <td>1.0</td>\n",
       "      <td>0.0</td>\n",
       "      <td>0.0</td>\n",
       "      <td>1.0</td>\n",
       "      <td>...</td>\n",
       "      <td>1.0</td>\n",
       "      <td>1.0</td>\n",
       "      <td>1.0</td>\n",
       "      <td>1.0</td>\n",
       "      <td>0.0</td>\n",
       "      <td>0.0</td>\n",
       "      <td>0.0</td>\n",
       "      <td>0.0</td>\n",
       "      <td>0.0</td>\n",
       "      <td>West_Nile_fever</td>\n",
       "    </tr>\n",
       "    <tr>\n",
       "      <th>7</th>\n",
       "      <td>7</td>\n",
       "      <td>1.0</td>\n",
       "      <td>0.0</td>\n",
       "      <td>0.0</td>\n",
       "      <td>0.0</td>\n",
       "      <td>1.0</td>\n",
       "      <td>0.0</td>\n",
       "      <td>0.0</td>\n",
       "      <td>1.0</td>\n",
       "      <td>1.0</td>\n",
       "      <td>...</td>\n",
       "      <td>0.0</td>\n",
       "      <td>0.0</td>\n",
       "      <td>0.0</td>\n",
       "      <td>0.0</td>\n",
       "      <td>0.0</td>\n",
       "      <td>0.0</td>\n",
       "      <td>1.0</td>\n",
       "      <td>0.0</td>\n",
       "      <td>0.0</td>\n",
       "      <td>Tungiasis</td>\n",
       "    </tr>\n",
       "    <tr>\n",
       "      <th>8</th>\n",
       "      <td>8</td>\n",
       "      <td>1.0</td>\n",
       "      <td>1.0</td>\n",
       "      <td>1.0</td>\n",
       "      <td>1.0</td>\n",
       "      <td>1.0</td>\n",
       "      <td>1.0</td>\n",
       "      <td>0.0</td>\n",
       "      <td>0.0</td>\n",
       "      <td>1.0</td>\n",
       "      <td>...</td>\n",
       "      <td>0.0</td>\n",
       "      <td>0.0</td>\n",
       "      <td>0.0</td>\n",
       "      <td>0.0</td>\n",
       "      <td>0.0</td>\n",
       "      <td>0.0</td>\n",
       "      <td>0.0</td>\n",
       "      <td>0.0</td>\n",
       "      <td>0.0</td>\n",
       "      <td>Malaria</td>\n",
       "    </tr>\n",
       "    <tr>\n",
       "      <th>9</th>\n",
       "      <td>9</td>\n",
       "      <td>0.0</td>\n",
       "      <td>1.0</td>\n",
       "      <td>0.0</td>\n",
       "      <td>1.0</td>\n",
       "      <td>0.0</td>\n",
       "      <td>1.0</td>\n",
       "      <td>0.0</td>\n",
       "      <td>0.0</td>\n",
       "      <td>0.0</td>\n",
       "      <td>...</td>\n",
       "      <td>0.0</td>\n",
       "      <td>0.0</td>\n",
       "      <td>0.0</td>\n",
       "      <td>0.0</td>\n",
       "      <td>0.0</td>\n",
       "      <td>0.0</td>\n",
       "      <td>0.0</td>\n",
       "      <td>0.0</td>\n",
       "      <td>0.0</td>\n",
       "      <td>Chikungunya</td>\n",
       "    </tr>\n",
       "  </tbody>\n",
       "</table>\n",
       "<p>10 rows × 66 columns</p>\n",
       "</div>"
      ],
      "text/plain": [
       "   id  sudden_fever  headache  mouth_bleed  nose_bleed  muscle_pain  \\\n",
       "0   0           1.0       1.0          0.0         1.0          1.0   \n",
       "1   1           0.0       0.0          0.0         0.0          0.0   \n",
       "2   2           0.0       1.0          1.0         1.0          0.0   \n",
       "3   3           0.0       0.0          1.0         1.0          1.0   \n",
       "4   4           0.0       0.0          0.0         0.0          0.0   \n",
       "5   5           1.0       1.0          1.0         1.0          0.0   \n",
       "6   6           1.0       0.0          0.0         1.0          1.0   \n",
       "7   7           1.0       0.0          0.0         0.0          1.0   \n",
       "8   8           1.0       1.0          1.0         1.0          1.0   \n",
       "9   9           0.0       1.0          0.0         1.0          0.0   \n",
       "\n",
       "   joint_pain  vomiting  rash  diarrhea  ...  breathing_restriction  \\\n",
       "0         1.0       1.0   0.0       1.0  ...                    0.0   \n",
       "1         0.0       1.0   0.0       1.0  ...                    0.0   \n",
       "2         1.0       1.0   1.0       1.0  ...                    1.0   \n",
       "3         1.0       0.0   1.0       0.0  ...                    0.0   \n",
       "4         0.0       0.0   0.0       1.0  ...                    0.0   \n",
       "5         0.0       1.0   1.0       0.0  ...                    1.0   \n",
       "6         1.0       0.0   0.0       1.0  ...                    1.0   \n",
       "7         0.0       0.0   1.0       1.0  ...                    0.0   \n",
       "8         1.0       0.0   0.0       1.0  ...                    0.0   \n",
       "9         1.0       0.0   0.0       0.0  ...                    0.0   \n",
       "\n",
       "   toe_inflammation  finger_inflammation  lips_irritation  itchiness  ulcers  \\\n",
       "0               0.0                  0.0              0.0        0.0     0.0   \n",
       "1               0.0                  0.0              0.0        0.0     0.0   \n",
       "2               1.0                  1.0              1.0        1.0     0.0   \n",
       "3               0.0                  0.0              0.0        0.0     0.0   \n",
       "4               1.0                  0.0              0.0        1.0     1.0   \n",
       "5               1.0                  1.0              1.0        0.0     0.0   \n",
       "6               1.0                  1.0              1.0        0.0     0.0   \n",
       "7               0.0                  0.0              0.0        0.0     0.0   \n",
       "8               0.0                  0.0              0.0        0.0     0.0   \n",
       "9               0.0                  0.0              0.0        0.0     0.0   \n",
       "\n",
       "   toenail_loss  speech_problem  bullseye_rash          prognosis  \n",
       "0           0.0             0.0            0.0       Lyme_disease  \n",
       "1           0.0             0.0            0.0          Tungiasis  \n",
       "2           1.0             1.0            1.0       Lyme_disease  \n",
       "3           0.0             0.0            0.0               Zika  \n",
       "4           1.0             0.0            0.0  Rift_Valley_fever  \n",
       "5           0.0             0.0            0.0       Lyme_disease  \n",
       "6           0.0             0.0            0.0    West_Nile_fever  \n",
       "7           1.0             0.0            0.0          Tungiasis  \n",
       "8           0.0             0.0            0.0            Malaria  \n",
       "9           0.0             0.0            0.0        Chikungunya  \n",
       "\n",
       "[10 rows x 66 columns]"
      ]
     },
     "execution_count": 5,
     "metadata": {},
     "output_type": "execute_result"
    }
   ],
   "source": [
    "df.head(10)"
   ]
  },
  {
   "cell_type": "code",
   "execution_count": 6,
   "id": "6c1ea369",
   "metadata": {
    "execution": {
     "iopub.execute_input": "2023-06-18T16:58:41.522434Z",
     "iopub.status.busy": "2023-06-18T16:58:41.522032Z",
     "iopub.status.idle": "2023-06-18T16:58:41.569653Z",
     "shell.execute_reply": "2023-06-18T16:58:41.568454Z"
    },
    "papermill": {
     "duration": 0.064047,
     "end_time": "2023-06-18T16:58:41.572295",
     "exception": false,
     "start_time": "2023-06-18T16:58:41.508248",
     "status": "completed"
    },
    "tags": []
   },
   "outputs": [
    {
     "data": {
      "text/html": [
       "<div>\n",
       "<style scoped>\n",
       "    .dataframe tbody tr th:only-of-type {\n",
       "        vertical-align: middle;\n",
       "    }\n",
       "\n",
       "    .dataframe tbody tr th {\n",
       "        vertical-align: top;\n",
       "    }\n",
       "\n",
       "    .dataframe thead th {\n",
       "        text-align: right;\n",
       "    }\n",
       "</style>\n",
       "<table border=\"1\" class=\"dataframe\">\n",
       "  <thead>\n",
       "    <tr style=\"text-align: right;\">\n",
       "      <th></th>\n",
       "      <th>id</th>\n",
       "      <th>sudden_fever</th>\n",
       "      <th>headache</th>\n",
       "      <th>mouth_bleed</th>\n",
       "      <th>nose_bleed</th>\n",
       "      <th>muscle_pain</th>\n",
       "      <th>joint_pain</th>\n",
       "      <th>vomiting</th>\n",
       "      <th>rash</th>\n",
       "      <th>diarrhea</th>\n",
       "      <th>...</th>\n",
       "      <th>breathing_restriction</th>\n",
       "      <th>toe_inflammation</th>\n",
       "      <th>finger_inflammation</th>\n",
       "      <th>lips_irritation</th>\n",
       "      <th>itchiness</th>\n",
       "      <th>ulcers</th>\n",
       "      <th>toenail_loss</th>\n",
       "      <th>speech_problem</th>\n",
       "      <th>bullseye_rash</th>\n",
       "      <th>prognosis</th>\n",
       "    </tr>\n",
       "  </thead>\n",
       "  <tbody>\n",
       "    <tr>\n",
       "      <th>697</th>\n",
       "      <td>697</td>\n",
       "      <td>0.0</td>\n",
       "      <td>1.0</td>\n",
       "      <td>1.0</td>\n",
       "      <td>1.0</td>\n",
       "      <td>1.0</td>\n",
       "      <td>1.0</td>\n",
       "      <td>0.0</td>\n",
       "      <td>0.0</td>\n",
       "      <td>1.0</td>\n",
       "      <td>...</td>\n",
       "      <td>0.0</td>\n",
       "      <td>0.0</td>\n",
       "      <td>0.0</td>\n",
       "      <td>0.0</td>\n",
       "      <td>0.0</td>\n",
       "      <td>0.0</td>\n",
       "      <td>0.0</td>\n",
       "      <td>0.0</td>\n",
       "      <td>0.0</td>\n",
       "      <td>Dengue</td>\n",
       "    </tr>\n",
       "    <tr>\n",
       "      <th>698</th>\n",
       "      <td>698</td>\n",
       "      <td>0.0</td>\n",
       "      <td>0.0</td>\n",
       "      <td>0.0</td>\n",
       "      <td>0.0</td>\n",
       "      <td>0.0</td>\n",
       "      <td>0.0</td>\n",
       "      <td>1.0</td>\n",
       "      <td>0.0</td>\n",
       "      <td>0.0</td>\n",
       "      <td>...</td>\n",
       "      <td>0.0</td>\n",
       "      <td>0.0</td>\n",
       "      <td>0.0</td>\n",
       "      <td>0.0</td>\n",
       "      <td>1.0</td>\n",
       "      <td>1.0</td>\n",
       "      <td>1.0</td>\n",
       "      <td>0.0</td>\n",
       "      <td>0.0</td>\n",
       "      <td>Tungiasis</td>\n",
       "    </tr>\n",
       "    <tr>\n",
       "      <th>699</th>\n",
       "      <td>699</td>\n",
       "      <td>1.0</td>\n",
       "      <td>1.0</td>\n",
       "      <td>0.0</td>\n",
       "      <td>1.0</td>\n",
       "      <td>0.0</td>\n",
       "      <td>1.0</td>\n",
       "      <td>1.0</td>\n",
       "      <td>1.0</td>\n",
       "      <td>1.0</td>\n",
       "      <td>...</td>\n",
       "      <td>0.0</td>\n",
       "      <td>0.0</td>\n",
       "      <td>0.0</td>\n",
       "      <td>0.0</td>\n",
       "      <td>0.0</td>\n",
       "      <td>0.0</td>\n",
       "      <td>0.0</td>\n",
       "      <td>0.0</td>\n",
       "      <td>0.0</td>\n",
       "      <td>West_Nile_fever</td>\n",
       "    </tr>\n",
       "    <tr>\n",
       "      <th>700</th>\n",
       "      <td>700</td>\n",
       "      <td>0.0</td>\n",
       "      <td>1.0</td>\n",
       "      <td>1.0</td>\n",
       "      <td>1.0</td>\n",
       "      <td>1.0</td>\n",
       "      <td>1.0</td>\n",
       "      <td>1.0</td>\n",
       "      <td>1.0</td>\n",
       "      <td>0.0</td>\n",
       "      <td>...</td>\n",
       "      <td>0.0</td>\n",
       "      <td>0.0</td>\n",
       "      <td>0.0</td>\n",
       "      <td>0.0</td>\n",
       "      <td>1.0</td>\n",
       "      <td>1.0</td>\n",
       "      <td>1.0</td>\n",
       "      <td>0.0</td>\n",
       "      <td>0.0</td>\n",
       "      <td>Tungiasis</td>\n",
       "    </tr>\n",
       "    <tr>\n",
       "      <th>701</th>\n",
       "      <td>701</td>\n",
       "      <td>0.0</td>\n",
       "      <td>0.0</td>\n",
       "      <td>0.0</td>\n",
       "      <td>0.0</td>\n",
       "      <td>0.0</td>\n",
       "      <td>1.0</td>\n",
       "      <td>1.0</td>\n",
       "      <td>0.0</td>\n",
       "      <td>0.0</td>\n",
       "      <td>...</td>\n",
       "      <td>0.0</td>\n",
       "      <td>0.0</td>\n",
       "      <td>1.0</td>\n",
       "      <td>0.0</td>\n",
       "      <td>1.0</td>\n",
       "      <td>1.0</td>\n",
       "      <td>1.0</td>\n",
       "      <td>0.0</td>\n",
       "      <td>0.0</td>\n",
       "      <td>Tungiasis</td>\n",
       "    </tr>\n",
       "    <tr>\n",
       "      <th>702</th>\n",
       "      <td>702</td>\n",
       "      <td>0.0</td>\n",
       "      <td>0.0</td>\n",
       "      <td>1.0</td>\n",
       "      <td>1.0</td>\n",
       "      <td>1.0</td>\n",
       "      <td>0.0</td>\n",
       "      <td>0.0</td>\n",
       "      <td>0.0</td>\n",
       "      <td>0.0</td>\n",
       "      <td>...</td>\n",
       "      <td>0.0</td>\n",
       "      <td>0.0</td>\n",
       "      <td>0.0</td>\n",
       "      <td>0.0</td>\n",
       "      <td>0.0</td>\n",
       "      <td>0.0</td>\n",
       "      <td>0.0</td>\n",
       "      <td>0.0</td>\n",
       "      <td>0.0</td>\n",
       "      <td>Plague</td>\n",
       "    </tr>\n",
       "    <tr>\n",
       "      <th>703</th>\n",
       "      <td>703</td>\n",
       "      <td>1.0</td>\n",
       "      <td>0.0</td>\n",
       "      <td>1.0</td>\n",
       "      <td>1.0</td>\n",
       "      <td>1.0</td>\n",
       "      <td>1.0</td>\n",
       "      <td>0.0</td>\n",
       "      <td>1.0</td>\n",
       "      <td>1.0</td>\n",
       "      <td>...</td>\n",
       "      <td>0.0</td>\n",
       "      <td>0.0</td>\n",
       "      <td>0.0</td>\n",
       "      <td>0.0</td>\n",
       "      <td>0.0</td>\n",
       "      <td>0.0</td>\n",
       "      <td>0.0</td>\n",
       "      <td>0.0</td>\n",
       "      <td>0.0</td>\n",
       "      <td>Malaria</td>\n",
       "    </tr>\n",
       "    <tr>\n",
       "      <th>704</th>\n",
       "      <td>704</td>\n",
       "      <td>1.0</td>\n",
       "      <td>0.0</td>\n",
       "      <td>1.0</td>\n",
       "      <td>0.0</td>\n",
       "      <td>1.0</td>\n",
       "      <td>0.0</td>\n",
       "      <td>0.0</td>\n",
       "      <td>1.0</td>\n",
       "      <td>1.0</td>\n",
       "      <td>...</td>\n",
       "      <td>0.0</td>\n",
       "      <td>0.0</td>\n",
       "      <td>0.0</td>\n",
       "      <td>0.0</td>\n",
       "      <td>0.0</td>\n",
       "      <td>0.0</td>\n",
       "      <td>0.0</td>\n",
       "      <td>0.0</td>\n",
       "      <td>0.0</td>\n",
       "      <td>Zika</td>\n",
       "    </tr>\n",
       "    <tr>\n",
       "      <th>705</th>\n",
       "      <td>705</td>\n",
       "      <td>1.0</td>\n",
       "      <td>1.0</td>\n",
       "      <td>0.0</td>\n",
       "      <td>0.0</td>\n",
       "      <td>1.0</td>\n",
       "      <td>0.0</td>\n",
       "      <td>1.0</td>\n",
       "      <td>0.0</td>\n",
       "      <td>1.0</td>\n",
       "      <td>...</td>\n",
       "      <td>1.0</td>\n",
       "      <td>1.0</td>\n",
       "      <td>1.0</td>\n",
       "      <td>1.0</td>\n",
       "      <td>0.0</td>\n",
       "      <td>0.0</td>\n",
       "      <td>0.0</td>\n",
       "      <td>0.0</td>\n",
       "      <td>0.0</td>\n",
       "      <td>Plague</td>\n",
       "    </tr>\n",
       "    <tr>\n",
       "      <th>706</th>\n",
       "      <td>706</td>\n",
       "      <td>1.0</td>\n",
       "      <td>1.0</td>\n",
       "      <td>0.0</td>\n",
       "      <td>0.0</td>\n",
       "      <td>0.0</td>\n",
       "      <td>0.0</td>\n",
       "      <td>1.0</td>\n",
       "      <td>0.0</td>\n",
       "      <td>0.0</td>\n",
       "      <td>...</td>\n",
       "      <td>0.0</td>\n",
       "      <td>0.0</td>\n",
       "      <td>0.0</td>\n",
       "      <td>0.0</td>\n",
       "      <td>1.0</td>\n",
       "      <td>1.0</td>\n",
       "      <td>1.0</td>\n",
       "      <td>0.0</td>\n",
       "      <td>0.0</td>\n",
       "      <td>Tungiasis</td>\n",
       "    </tr>\n",
       "  </tbody>\n",
       "</table>\n",
       "<p>10 rows × 66 columns</p>\n",
       "</div>"
      ],
      "text/plain": [
       "      id  sudden_fever  headache  mouth_bleed  nose_bleed  muscle_pain  \\\n",
       "697  697           0.0       1.0          1.0         1.0          1.0   \n",
       "698  698           0.0       0.0          0.0         0.0          0.0   \n",
       "699  699           1.0       1.0          0.0         1.0          0.0   \n",
       "700  700           0.0       1.0          1.0         1.0          1.0   \n",
       "701  701           0.0       0.0          0.0         0.0          0.0   \n",
       "702  702           0.0       0.0          1.0         1.0          1.0   \n",
       "703  703           1.0       0.0          1.0         1.0          1.0   \n",
       "704  704           1.0       0.0          1.0         0.0          1.0   \n",
       "705  705           1.0       1.0          0.0         0.0          1.0   \n",
       "706  706           1.0       1.0          0.0         0.0          0.0   \n",
       "\n",
       "     joint_pain  vomiting  rash  diarrhea  ...  breathing_restriction  \\\n",
       "697         1.0       0.0   0.0       1.0  ...                    0.0   \n",
       "698         0.0       1.0   0.0       0.0  ...                    0.0   \n",
       "699         1.0       1.0   1.0       1.0  ...                    0.0   \n",
       "700         1.0       1.0   1.0       0.0  ...                    0.0   \n",
       "701         1.0       1.0   0.0       0.0  ...                    0.0   \n",
       "702         0.0       0.0   0.0       0.0  ...                    0.0   \n",
       "703         1.0       0.0   1.0       1.0  ...                    0.0   \n",
       "704         0.0       0.0   1.0       1.0  ...                    0.0   \n",
       "705         0.0       1.0   0.0       1.0  ...                    1.0   \n",
       "706         0.0       1.0   0.0       0.0  ...                    0.0   \n",
       "\n",
       "     toe_inflammation  finger_inflammation  lips_irritation  itchiness  \\\n",
       "697               0.0                  0.0              0.0        0.0   \n",
       "698               0.0                  0.0              0.0        1.0   \n",
       "699               0.0                  0.0              0.0        0.0   \n",
       "700               0.0                  0.0              0.0        1.0   \n",
       "701               0.0                  1.0              0.0        1.0   \n",
       "702               0.0                  0.0              0.0        0.0   \n",
       "703               0.0                  0.0              0.0        0.0   \n",
       "704               0.0                  0.0              0.0        0.0   \n",
       "705               1.0                  1.0              1.0        0.0   \n",
       "706               0.0                  0.0              0.0        1.0   \n",
       "\n",
       "     ulcers  toenail_loss  speech_problem  bullseye_rash        prognosis  \n",
       "697     0.0           0.0             0.0            0.0           Dengue  \n",
       "698     1.0           1.0             0.0            0.0        Tungiasis  \n",
       "699     0.0           0.0             0.0            0.0  West_Nile_fever  \n",
       "700     1.0           1.0             0.0            0.0        Tungiasis  \n",
       "701     1.0           1.0             0.0            0.0        Tungiasis  \n",
       "702     0.0           0.0             0.0            0.0           Plague  \n",
       "703     0.0           0.0             0.0            0.0          Malaria  \n",
       "704     0.0           0.0             0.0            0.0             Zika  \n",
       "705     0.0           0.0             0.0            0.0           Plague  \n",
       "706     1.0           1.0             0.0            0.0        Tungiasis  \n",
       "\n",
       "[10 rows x 66 columns]"
      ]
     },
     "execution_count": 6,
     "metadata": {},
     "output_type": "execute_result"
    }
   ],
   "source": [
    "df.tail(10)"
   ]
  },
  {
   "cell_type": "code",
   "execution_count": 7,
   "id": "9662c053",
   "metadata": {
    "execution": {
     "iopub.execute_input": "2023-06-18T16:58:41.600726Z",
     "iopub.status.busy": "2023-06-18T16:58:41.600274Z",
     "iopub.status.idle": "2023-06-18T16:58:41.611994Z",
     "shell.execute_reply": "2023-06-18T16:58:41.610729Z"
    },
    "papermill": {
     "duration": 0.028663,
     "end_time": "2023-06-18T16:58:41.614299",
     "exception": false,
     "start_time": "2023-06-18T16:58:41.585636",
     "status": "completed"
    },
    "tags": []
   },
   "outputs": [
    {
     "data": {
      "text/plain": [
       "id                0\n",
       "sudden_fever      0\n",
       "headache          0\n",
       "mouth_bleed       0\n",
       "nose_bleed        0\n",
       "                 ..\n",
       "ulcers            0\n",
       "toenail_loss      0\n",
       "speech_problem    0\n",
       "bullseye_rash     0\n",
       "prognosis         0\n",
       "Length: 66, dtype: int64"
      ]
     },
     "execution_count": 7,
     "metadata": {},
     "output_type": "execute_result"
    }
   ],
   "source": [
    "df.isna().sum()"
   ]
  },
  {
   "cell_type": "code",
   "execution_count": 8,
   "id": "e40152ee",
   "metadata": {
    "execution": {
     "iopub.execute_input": "2023-06-18T16:58:41.643102Z",
     "iopub.status.busy": "2023-06-18T16:58:41.642389Z",
     "iopub.status.idle": "2023-06-18T16:58:41.652665Z",
     "shell.execute_reply": "2023-06-18T16:58:41.651432Z"
    },
    "papermill": {
     "duration": 0.027549,
     "end_time": "2023-06-18T16:58:41.655265",
     "exception": false,
     "start_time": "2023-06-18T16:58:41.627716",
     "status": "completed"
    },
    "tags": []
   },
   "outputs": [
    {
     "data": {
      "text/plain": [
       "id                  int64\n",
       "sudden_fever      float64\n",
       "headache          float64\n",
       "mouth_bleed       float64\n",
       "nose_bleed        float64\n",
       "                   ...   \n",
       "ulcers            float64\n",
       "toenail_loss      float64\n",
       "speech_problem    float64\n",
       "bullseye_rash     float64\n",
       "prognosis          object\n",
       "Length: 66, dtype: object"
      ]
     },
     "execution_count": 8,
     "metadata": {},
     "output_type": "execute_result"
    }
   ],
   "source": [
    "df.dtypes"
   ]
  },
  {
   "cell_type": "code",
   "execution_count": 9,
   "id": "1197495a",
   "metadata": {
    "execution": {
     "iopub.execute_input": "2023-06-18T16:58:41.684868Z",
     "iopub.status.busy": "2023-06-18T16:58:41.684408Z",
     "iopub.status.idle": "2023-06-18T16:58:41.689396Z",
     "shell.execute_reply": "2023-06-18T16:58:41.688096Z"
    },
    "papermill": {
     "duration": 0.022449,
     "end_time": "2023-06-18T16:58:41.691829",
     "exception": false,
     "start_time": "2023-06-18T16:58:41.669380",
     "status": "completed"
    },
    "tags": []
   },
   "outputs": [],
   "source": [
    "#UNIVARIATE ANALYSIS "
   ]
  },
  {
   "cell_type": "code",
   "execution_count": 10,
   "id": "c3224aa4",
   "metadata": {
    "execution": {
     "iopub.execute_input": "2023-06-18T16:58:41.722016Z",
     "iopub.status.busy": "2023-06-18T16:58:41.721632Z",
     "iopub.status.idle": "2023-06-18T16:58:41.730323Z",
     "shell.execute_reply": "2023-06-18T16:58:41.729240Z"
    },
    "papermill": {
     "duration": 0.027743,
     "end_time": "2023-06-18T16:58:41.734024",
     "exception": false,
     "start_time": "2023-06-18T16:58:41.706281",
     "status": "completed"
    },
    "tags": []
   },
   "outputs": [
    {
     "data": {
      "text/plain": [
       "0.0    389\n",
       "1.0    318\n",
       "Name: headache, dtype: int64"
      ]
     },
     "execution_count": 10,
     "metadata": {},
     "output_type": "execute_result"
    }
   ],
   "source": [
    "df['headache'].value_counts()"
   ]
  },
  {
   "cell_type": "code",
   "execution_count": 11,
   "id": "6f1cdd48",
   "metadata": {
    "execution": {
     "iopub.execute_input": "2023-06-18T16:58:41.764620Z",
     "iopub.status.busy": "2023-06-18T16:58:41.764202Z",
     "iopub.status.idle": "2023-06-18T16:58:43.393353Z",
     "shell.execute_reply": "2023-06-18T16:58:43.392026Z"
    },
    "papermill": {
     "duration": 1.647149,
     "end_time": "2023-06-18T16:58:43.396308",
     "exception": false,
     "start_time": "2023-06-18T16:58:41.749159",
     "status": "completed"
    },
    "tags": []
   },
   "outputs": [],
   "source": [
    "import seaborn as sns"
   ]
  },
  {
   "cell_type": "code",
   "execution_count": 12,
   "id": "8f9f8c72",
   "metadata": {
    "execution": {
     "iopub.execute_input": "2023-06-18T16:58:43.426340Z",
     "iopub.status.busy": "2023-06-18T16:58:43.425956Z",
     "iopub.status.idle": "2023-06-18T16:58:43.434277Z",
     "shell.execute_reply": "2023-06-18T16:58:43.433052Z"
    },
    "papermill": {
     "duration": 0.026697,
     "end_time": "2023-06-18T16:58:43.437109",
     "exception": false,
     "start_time": "2023-06-18T16:58:43.410412",
     "status": "completed"
    },
    "tags": []
   },
   "outputs": [
    {
     "data": {
      "text/plain": [
       "-1.964640985963428"
      ]
     },
     "execution_count": 12,
     "metadata": {},
     "output_type": "execute_result"
    }
   ],
   "source": [
    "df['headache'].kurt()"
   ]
  },
  {
   "cell_type": "code",
   "execution_count": 13,
   "id": "9bf99085",
   "metadata": {
    "execution": {
     "iopub.execute_input": "2023-06-18T16:58:43.468655Z",
     "iopub.status.busy": "2023-06-18T16:58:43.468176Z",
     "iopub.status.idle": "2023-06-18T16:58:43.476868Z",
     "shell.execute_reply": "2023-06-18T16:58:43.475790Z"
    },
    "papermill": {
     "duration": 0.027386,
     "end_time": "2023-06-18T16:58:43.479361",
     "exception": false,
     "start_time": "2023-06-18T16:58:43.451975",
     "status": "completed"
    },
    "tags": []
   },
   "outputs": [
    {
     "data": {
      "text/plain": [
       "-1.964640985963428"
      ]
     },
     "execution_count": 13,
     "metadata": {},
     "output_type": "execute_result"
    }
   ],
   "source": [
    "np.sqrt(df['headache']).kurt()"
   ]
  },
  {
   "cell_type": "code",
   "execution_count": 14,
   "id": "03a17d85",
   "metadata": {
    "execution": {
     "iopub.execute_input": "2023-06-18T16:58:43.509536Z",
     "iopub.status.busy": "2023-06-18T16:58:43.509102Z",
     "iopub.status.idle": "2023-06-18T16:58:43.517632Z",
     "shell.execute_reply": "2023-06-18T16:58:43.516422Z"
    },
    "papermill": {
     "duration": 0.026632,
     "end_time": "2023-06-18T16:58:43.520304",
     "exception": false,
     "start_time": "2023-06-18T16:58:43.493672",
     "status": "completed"
    },
    "tags": []
   },
   "outputs": [
    {
     "data": {
      "text/plain": [
       "-1.9646409859634277"
      ]
     },
     "execution_count": 14,
     "metadata": {},
     "output_type": "execute_result"
    }
   ],
   "source": [
    "np.log(df['headache']+ 1e-10).kurt()"
   ]
  },
  {
   "cell_type": "code",
   "execution_count": 15,
   "id": "efcaa885",
   "metadata": {
    "execution": {
     "iopub.execute_input": "2023-06-18T16:58:43.551868Z",
     "iopub.status.busy": "2023-06-18T16:58:43.551422Z",
     "iopub.status.idle": "2023-06-18T16:58:43.737350Z",
     "shell.execute_reply": "2023-06-18T16:58:43.736429Z"
    },
    "papermill": {
     "duration": 0.204853,
     "end_time": "2023-06-18T16:58:43.739951",
     "exception": false,
     "start_time": "2023-06-18T16:58:43.535098",
     "status": "completed"
    },
    "tags": []
   },
   "outputs": [],
   "source": [
    "from sklearn.preprocessing import PowerTransformer"
   ]
  },
  {
   "cell_type": "code",
   "execution_count": 16,
   "id": "2023f210",
   "metadata": {
    "execution": {
     "iopub.execute_input": "2023-06-18T16:58:43.773064Z",
     "iopub.status.busy": "2023-06-18T16:58:43.771689Z",
     "iopub.status.idle": "2023-06-18T16:58:43.785581Z",
     "shell.execute_reply": "2023-06-18T16:58:43.784413Z"
    },
    "papermill": {
     "duration": 0.032712,
     "end_time": "2023-06-18T16:58:43.788804",
     "exception": false,
     "start_time": "2023-06-18T16:58:43.756092",
     "status": "completed"
    },
    "tags": []
   },
   "outputs": [],
   "source": [
    "hb = PowerTransformer().fit_transform(df[['headache']]+1e-8)"
   ]
  },
  {
   "cell_type": "code",
   "execution_count": 17,
   "id": "f85ba168",
   "metadata": {
    "execution": {
     "iopub.execute_input": "2023-06-18T16:58:43.820586Z",
     "iopub.status.busy": "2023-06-18T16:58:43.820041Z",
     "iopub.status.idle": "2023-06-18T16:58:43.830732Z",
     "shell.execute_reply": "2023-06-18T16:58:43.829480Z"
    },
    "papermill": {
     "duration": 0.029684,
     "end_time": "2023-06-18T16:58:43.833318",
     "exception": false,
     "start_time": "2023-06-18T16:58:43.803634",
     "status": "completed"
    },
    "tags": []
   },
   "outputs": [
    {
     "data": {
      "text/plain": [
       "0   -1.964641\n",
       "dtype: float64"
      ]
     },
     "execution_count": 17,
     "metadata": {},
     "output_type": "execute_result"
    }
   ],
   "source": [
    "pd.DataFrame(hb).kurt()"
   ]
  },
  {
   "cell_type": "code",
   "execution_count": 18,
   "id": "a280fe5a",
   "metadata": {
    "execution": {
     "iopub.execute_input": "2023-06-18T16:58:43.864581Z",
     "iopub.status.busy": "2023-06-18T16:58:43.863904Z",
     "iopub.status.idle": "2023-06-18T16:58:44.363364Z",
     "shell.execute_reply": "2023-06-18T16:58:44.362105Z"
    },
    "papermill": {
     "duration": 0.518014,
     "end_time": "2023-06-18T16:58:44.365980",
     "exception": false,
     "start_time": "2023-06-18T16:58:43.847966",
     "status": "completed"
    },
    "tags": []
   },
   "outputs": [
    {
     "data": {
      "text/plain": [
       "<seaborn.axisgrid.FacetGrid at 0x7f6d05386bc0>"
      ]
     },
     "execution_count": 18,
     "metadata": {},
     "output_type": "execute_result"
    },
    {
     "data": {
      "image/png": "[encoded data removed]",
      "text/plain": [
       "<Figure size 500x500 with 1 Axes>"
      ]
     },
     "metadata": {},
     "output_type": "display_data"
    }
   ],
   "source": [
    "sns.displot(df['headache'], kind='kde')"
   ]
  },
  {
   "cell_type": "code",
   "execution_count": 19,
   "id": "cfb38674",
   "metadata": {
    "execution": {
     "iopub.execute_input": "2023-06-18T16:58:44.399996Z",
     "iopub.status.busy": "2023-06-18T16:58:44.399556Z",
     "iopub.status.idle": "2023-06-18T16:58:44.914277Z",
     "shell.execute_reply": "2023-06-18T16:58:44.913187Z"
    },
    "papermill": {
     "duration": 0.535119,
     "end_time": "2023-06-18T16:58:44.917102",
     "exception": false,
     "start_time": "2023-06-18T16:58:44.381983",
     "status": "completed"
    },
    "tags": []
   },
   "outputs": [
    {
     "data": {
      "text/plain": [
       "<seaborn.axisgrid.FacetGrid at 0x7f6d05387850>"
      ]
     },
     "execution_count": 19,
     "metadata": {},
     "output_type": "execute_result"
    },
    {
     "data": {
      "image/png": "[encoded data removed]",
      "text/plain": [
       "<Figure size 500x500 with 1 Axes>"
      ]
     },
     "metadata": {},
     "output_type": "display_data"
    }
   ],
   "source": [
    "sns.displot(np.sqrt(df['headache']), kind='kde')"
   ]
  },
  {
   "cell_type": "code",
   "execution_count": 20,
   "id": "557cda3a",
   "metadata": {
    "execution": {
     "iopub.execute_input": "2023-06-18T16:58:44.951211Z",
     "iopub.status.busy": "2023-06-18T16:58:44.950566Z",
     "iopub.status.idle": "2023-06-18T16:58:45.458963Z",
     "shell.execute_reply": "2023-06-18T16:58:45.457822Z"
    },
    "papermill": {
     "duration": 0.528614,
     "end_time": "2023-06-18T16:58:45.461631",
     "exception": false,
     "start_time": "2023-06-18T16:58:44.933017",
     "status": "completed"
    },
    "tags": []
   },
   "outputs": [
    {
     "data": {
      "text/plain": [
       "<seaborn.axisgrid.FacetGrid at 0x7f6d00fde800>"
      ]
     },
     "execution_count": 20,
     "metadata": {},
     "output_type": "execute_result"
    },
    {
     "data": {
      "image/png": "[encoded data removed]",
      "text/plain": [
       "<Figure size 500x500 with 1 Axes>"
      ]
     },
     "metadata": {},
     "output_type": "display_data"
    }
   ],
   "source": [
    "sns.displot(np.log(df['headache'] + 1e+8), kind='kde')"
   ]
  },
  {
   "cell_type": "code",
   "execution_count": 21,
   "id": "d780a7be",
   "metadata": {
    "execution": {
     "iopub.execute_input": "2023-06-18T16:58:45.496880Z",
     "iopub.status.busy": "2023-06-18T16:58:45.496457Z",
     "iopub.status.idle": "2023-06-18T16:58:45.722096Z",
     "shell.execute_reply": "2023-06-18T16:58:45.720947Z"
    },
    "papermill": {
     "duration": 0.246751,
     "end_time": "2023-06-18T16:58:45.724950",
     "exception": false,
     "start_time": "2023-06-18T16:58:45.478199",
     "status": "completed"
    },
    "tags": []
   },
   "outputs": [
    {
     "data": {
      "text/plain": [
       "<Axes: >"
      ]
     },
     "execution_count": 21,
     "metadata": {},
     "output_type": "execute_result"
    },
    {
     "data": {
      "image/png": "[encoded data removed]",
      "text/plain": [
       "<Figure size 640x480 with 1 Axes>"
      ]
     },
     "metadata": {},
     "output_type": "display_data"
    }
   ],
   "source": [
    "sns.boxplot(df['headache'])"
   ]
  },
  {
   "cell_type": "code",
   "execution_count": 22,
   "id": "a7dcc87c",
   "metadata": {
    "execution": {
     "iopub.execute_input": "2023-06-18T16:58:45.762056Z",
     "iopub.status.busy": "2023-06-18T16:58:45.761650Z",
     "iopub.status.idle": "2023-06-18T16:58:45.992052Z",
     "shell.execute_reply": "2023-06-18T16:58:45.990806Z"
    },
    "papermill": {
     "duration": 0.251743,
     "end_time": "2023-06-18T16:58:45.994840",
     "exception": false,
     "start_time": "2023-06-18T16:58:45.743097",
     "status": "completed"
    },
    "tags": []
   },
   "outputs": [
    {
     "data": {
      "text/plain": [
       "<Axes: >"
      ]
     },
     "execution_count": 22,
     "metadata": {},
     "output_type": "execute_result"
    },
    {
     "data": {
      "image/png": "[encoded data removed]",
      "text/plain": [
       "<Figure size 640x480 with 1 Axes>"
      ]
     },
     "metadata": {},
     "output_type": "display_data"
    }
   ],
   "source": [
    "sns.boxplot(df['nose_bleed'])"
   ]
  },
  {
   "cell_type": "code",
   "execution_count": 23,
   "id": "5ae8d7b5",
   "metadata": {
    "execution": {
     "iopub.execute_input": "2023-06-18T16:58:46.032474Z",
     "iopub.status.busy": "2023-06-18T16:58:46.032090Z",
     "iopub.status.idle": "2023-06-18T16:58:46.041944Z",
     "shell.execute_reply": "2023-06-18T16:58:46.040592Z"
    },
    "papermill": {
     "duration": 0.031655,
     "end_time": "2023-06-18T16:58:46.044805",
     "exception": false,
     "start_time": "2023-06-18T16:58:46.013150",
     "status": "completed"
    },
    "tags": []
   },
   "outputs": [
    {
     "data": {
      "text/plain": [
       "0.0    362\n",
       "1.0    345\n",
       "Name: nose_bleed, dtype: int64"
      ]
     },
     "execution_count": 23,
     "metadata": {},
     "output_type": "execute_result"
    }
   ],
   "source": [
    "df['nose_bleed'].value_counts()"
   ]
  },
  {
   "cell_type": "code",
   "execution_count": 24,
   "id": "8f5d2611",
   "metadata": {
    "execution": {
     "iopub.execute_input": "2023-06-18T16:58:46.083359Z",
     "iopub.status.busy": "2023-06-18T16:58:46.082931Z",
     "iopub.status.idle": "2023-06-18T16:58:46.753999Z",
     "shell.execute_reply": "2023-06-18T16:58:46.753101Z"
    },
    "papermill": {
     "duration": 0.692969,
     "end_time": "2023-06-18T16:58:46.756461",
     "exception": false,
     "start_time": "2023-06-18T16:58:46.063492",
     "status": "completed"
    },
    "tags": []
   },
   "outputs": [
    {
     "data": {
      "text/plain": [
       "<seaborn.axisgrid.FacetGrid at 0x7f6d010a4220>"
      ]
     },
     "execution_count": 24,
     "metadata": {},
     "output_type": "execute_result"
    },
    {
     "data": {
      "image/png": "[encoded data removed]",
      "text/plain": [
       "<Figure size 558.875x500 with 1 Axes>"
      ]
     },
     "metadata": {},
     "output_type": "display_data"
    }
   ],
   "source": [
    "sns.displot(hb, kind='kde')"
   ]
  },
  {
   "cell_type": "code",
   "execution_count": 25,
   "id": "c6bfa0d2",
   "metadata": {
    "execution": {
     "iopub.execute_input": "2023-06-18T16:58:46.798360Z",
     "iopub.status.busy": "2023-06-18T16:58:46.797183Z",
     "iopub.status.idle": "2023-06-18T16:58:47.063194Z",
     "shell.execute_reply": "2023-06-18T16:58:47.062280Z"
    },
    "papermill": {
     "duration": 0.289231,
     "end_time": "2023-06-18T16:58:47.065890",
     "exception": false,
     "start_time": "2023-06-18T16:58:46.776659",
     "status": "completed"
    },
    "tags": []
   },
   "outputs": [
    {
     "data": {
      "text/plain": [
       "<Axes: xlabel='headache', ylabel='count'>"
      ]
     },
     "execution_count": 25,
     "metadata": {},
     "output_type": "execute_result"
    },
    {
     "data": {
      "image/png": "[encoded data removed]",
      "text/plain": [
       "<Figure size 640x480 with 1 Axes>"
      ]
     },
     "metadata": {},
     "output_type": "display_data"
    }
   ],
   "source": [
    "sns.countplot(data=df, x='headache')"
   ]
  },
  {
   "cell_type": "code",
   "execution_count": 26,
   "id": "86c40259",
   "metadata": {
    "execution": {
     "iopub.execute_input": "2023-06-18T16:58:47.106492Z",
     "iopub.status.busy": "2023-06-18T16:58:47.105699Z",
     "iopub.status.idle": "2023-06-18T16:58:47.120844Z",
     "shell.execute_reply": "2023-06-18T16:58:47.119593Z"
    },
    "papermill": {
     "duration": 0.039386,
     "end_time": "2023-06-18T16:58:47.124014",
     "exception": false,
     "start_time": "2023-06-18T16:58:47.084628",
     "status": "completed"
    },
    "tags": []
   },
   "outputs": [
    {
     "data": {
      "text/html": [
       "<div>\n",
       "<style scoped>\n",
       "    .dataframe tbody tr th:only-of-type {\n",
       "        vertical-align: middle;\n",
       "    }\n",
       "\n",
       "    .dataframe tbody tr th {\n",
       "        vertical-align: top;\n",
       "    }\n",
       "\n",
       "    .dataframe thead th {\n",
       "        text-align: right;\n",
       "    }\n",
       "</style>\n",
       "<table border=\"1\" class=\"dataframe\">\n",
       "  <thead>\n",
       "    <tr style=\"text-align: right;\">\n",
       "      <th></th>\n",
       "      <th>headache</th>\n",
       "      <th>nose_bleed</th>\n",
       "    </tr>\n",
       "  </thead>\n",
       "  <tbody>\n",
       "    <tr>\n",
       "      <th>headache</th>\n",
       "      <td>1.00000</td>\n",
       "      <td>0.10138</td>\n",
       "    </tr>\n",
       "    <tr>\n",
       "      <th>nose_bleed</th>\n",
       "      <td>0.10138</td>\n",
       "      <td>1.00000</td>\n",
       "    </tr>\n",
       "  </tbody>\n",
       "</table>\n",
       "</div>"
      ],
      "text/plain": [
       "            headache  nose_bleed\n",
       "headache     1.00000     0.10138\n",
       "nose_bleed   0.10138     1.00000"
      ]
     },
     "execution_count": 26,
     "metadata": {},
     "output_type": "execute_result"
    }
   ],
   "source": [
    "df[['headache', 'nose_bleed']].corr()"
   ]
  },
  {
   "cell_type": "markdown",
   "id": "69880230",
   "metadata": {
    "papermill": {
     "duration": 0.018827,
     "end_time": "2023-06-18T16:58:47.161985",
     "exception": false,
     "start_time": "2023-06-18T16:58:47.143158",
     "status": "completed"
    },
    "tags": []
   },
   "source": []
  },
  {
   "cell_type": "code",
   "execution_count": 27,
   "id": "f54cf7ba",
   "metadata": {
    "execution": {
     "iopub.execute_input": "2023-06-18T16:58:47.203405Z",
     "iopub.status.busy": "2023-06-18T16:58:47.202984Z",
     "iopub.status.idle": "2023-06-18T16:58:47.225819Z",
     "shell.execute_reply": "2023-06-18T16:58:47.224822Z"
    },
    "papermill": {
     "duration": 0.046424,
     "end_time": "2023-06-18T16:58:47.228592",
     "exception": false,
     "start_time": "2023-06-18T16:58:47.182168",
     "status": "completed"
    },
    "tags": []
   },
   "outputs": [],
   "source": [
    "df1 = pd.read_csv(\"/kaggle/input/playground-series-s3e13/test.csv\")"
   ]
  },
  {
   "cell_type": "code",
   "execution_count": 28,
   "id": "7429dadb",
   "metadata": {
    "execution": {
     "iopub.execute_input": "2023-06-18T16:58:47.269460Z",
     "iopub.status.busy": "2023-06-18T16:58:47.268743Z",
     "iopub.status.idle": "2023-06-18T16:58:47.466544Z",
     "shell.execute_reply": "2023-06-18T16:58:47.465229Z"
    },
    "papermill": {
     "duration": 0.221698,
     "end_time": "2023-06-18T16:58:47.469363",
     "exception": false,
     "start_time": "2023-06-18T16:58:47.247665",
     "status": "completed"
    },
    "tags": []
   },
   "outputs": [
    {
     "data": {
      "text/html": [
       "<div>\n",
       "<style scoped>\n",
       "    .dataframe tbody tr th:only-of-type {\n",
       "        vertical-align: middle;\n",
       "    }\n",
       "\n",
       "    .dataframe tbody tr th {\n",
       "        vertical-align: top;\n",
       "    }\n",
       "\n",
       "    .dataframe thead th {\n",
       "        text-align: right;\n",
       "    }\n",
       "</style>\n",
       "<table border=\"1\" class=\"dataframe\">\n",
       "  <thead>\n",
       "    <tr style=\"text-align: right;\">\n",
       "      <th></th>\n",
       "      <th>id</th>\n",
       "      <th>sudden_fever</th>\n",
       "      <th>headache</th>\n",
       "      <th>mouth_bleed</th>\n",
       "      <th>nose_bleed</th>\n",
       "      <th>muscle_pain</th>\n",
       "      <th>joint_pain</th>\n",
       "      <th>vomiting</th>\n",
       "      <th>rash</th>\n",
       "      <th>diarrhea</th>\n",
       "      <th>...</th>\n",
       "      <th>lymph_swells</th>\n",
       "      <th>breathing_restriction</th>\n",
       "      <th>toe_inflammation</th>\n",
       "      <th>finger_inflammation</th>\n",
       "      <th>lips_irritation</th>\n",
       "      <th>itchiness</th>\n",
       "      <th>ulcers</th>\n",
       "      <th>toenail_loss</th>\n",
       "      <th>speech_problem</th>\n",
       "      <th>bullseye_rash</th>\n",
       "    </tr>\n",
       "  </thead>\n",
       "  <tbody>\n",
       "    <tr>\n",
       "      <th>count</th>\n",
       "      <td>303.000000</td>\n",
       "      <td>303.000000</td>\n",
       "      <td>303.000000</td>\n",
       "      <td>303.000000</td>\n",
       "      <td>303.000000</td>\n",
       "      <td>303.000000</td>\n",
       "      <td>303.000000</td>\n",
       "      <td>303.000000</td>\n",
       "      <td>303.000000</td>\n",
       "      <td>303.000000</td>\n",
       "      <td>...</td>\n",
       "      <td>303.000000</td>\n",
       "      <td>303.000000</td>\n",
       "      <td>303.000000</td>\n",
       "      <td>303.000000</td>\n",
       "      <td>303.000000</td>\n",
       "      <td>303.000000</td>\n",
       "      <td>303.000000</td>\n",
       "      <td>303.000000</td>\n",
       "      <td>303.000000</td>\n",
       "      <td>303.000000</td>\n",
       "    </tr>\n",
       "    <tr>\n",
       "      <th>mean</th>\n",
       "      <td>858.000000</td>\n",
       "      <td>0.577558</td>\n",
       "      <td>0.462046</td>\n",
       "      <td>0.458746</td>\n",
       "      <td>0.504950</td>\n",
       "      <td>0.531353</td>\n",
       "      <td>0.541254</td>\n",
       "      <td>0.488449</td>\n",
       "      <td>0.448845</td>\n",
       "      <td>0.458746</td>\n",
       "      <td>...</td>\n",
       "      <td>0.145215</td>\n",
       "      <td>0.092409</td>\n",
       "      <td>0.099010</td>\n",
       "      <td>0.102310</td>\n",
       "      <td>0.118812</td>\n",
       "      <td>0.165017</td>\n",
       "      <td>0.128713</td>\n",
       "      <td>0.122112</td>\n",
       "      <td>0.052805</td>\n",
       "      <td>0.033003</td>\n",
       "    </tr>\n",
       "    <tr>\n",
       "      <th>std</th>\n",
       "      <td>87.612784</td>\n",
       "      <td>0.494765</td>\n",
       "      <td>0.499382</td>\n",
       "      <td>0.499120</td>\n",
       "      <td>0.500803</td>\n",
       "      <td>0.499842</td>\n",
       "      <td>0.499120</td>\n",
       "      <td>0.500693</td>\n",
       "      <td>0.498199</td>\n",
       "      <td>0.499120</td>\n",
       "      <td>...</td>\n",
       "      <td>0.352900</td>\n",
       "      <td>0.290082</td>\n",
       "      <td>0.299169</td>\n",
       "      <td>0.303557</td>\n",
       "      <td>0.324102</td>\n",
       "      <td>0.371809</td>\n",
       "      <td>0.335436</td>\n",
       "      <td>0.327957</td>\n",
       "      <td>0.224015</td>\n",
       "      <td>0.178941</td>\n",
       "    </tr>\n",
       "    <tr>\n",
       "      <th>min</th>\n",
       "      <td>707.000000</td>\n",
       "      <td>0.000000</td>\n",
       "      <td>0.000000</td>\n",
       "      <td>0.000000</td>\n",
       "      <td>0.000000</td>\n",
       "      <td>0.000000</td>\n",
       "      <td>0.000000</td>\n",
       "      <td>0.000000</td>\n",
       "      <td>0.000000</td>\n",
       "      <td>0.000000</td>\n",
       "      <td>...</td>\n",
       "      <td>0.000000</td>\n",
       "      <td>0.000000</td>\n",
       "      <td>0.000000</td>\n",
       "      <td>0.000000</td>\n",
       "      <td>0.000000</td>\n",
       "      <td>0.000000</td>\n",
       "      <td>0.000000</td>\n",
       "      <td>0.000000</td>\n",
       "      <td>0.000000</td>\n",
       "      <td>0.000000</td>\n",
       "    </tr>\n",
       "    <tr>\n",
       "      <th>25%</th>\n",
       "      <td>782.500000</td>\n",
       "      <td>0.000000</td>\n",
       "      <td>0.000000</td>\n",
       "      <td>0.000000</td>\n",
       "      <td>0.000000</td>\n",
       "      <td>0.000000</td>\n",
       "      <td>0.000000</td>\n",
       "      <td>0.000000</td>\n",
       "      <td>0.000000</td>\n",
       "      <td>0.000000</td>\n",
       "      <td>...</td>\n",
       "      <td>0.000000</td>\n",
       "      <td>0.000000</td>\n",
       "      <td>0.000000</td>\n",
       "      <td>0.000000</td>\n",
       "      <td>0.000000</td>\n",
       "      <td>0.000000</td>\n",
       "      <td>0.000000</td>\n",
       "      <td>0.000000</td>\n",
       "      <td>0.000000</td>\n",
       "      <td>0.000000</td>\n",
       "    </tr>\n",
       "    <tr>\n",
       "      <th>50%</th>\n",
       "      <td>858.000000</td>\n",
       "      <td>1.000000</td>\n",
       "      <td>0.000000</td>\n",
       "      <td>0.000000</td>\n",
       "      <td>1.000000</td>\n",
       "      <td>1.000000</td>\n",
       "      <td>1.000000</td>\n",
       "      <td>0.000000</td>\n",
       "      <td>0.000000</td>\n",
       "      <td>0.000000</td>\n",
       "      <td>...</td>\n",
       "      <td>0.000000</td>\n",
       "      <td>0.000000</td>\n",
       "      <td>0.000000</td>\n",
       "      <td>0.000000</td>\n",
       "      <td>0.000000</td>\n",
       "      <td>0.000000</td>\n",
       "      <td>0.000000</td>\n",
       "      <td>0.000000</td>\n",
       "      <td>0.000000</td>\n",
       "      <td>0.000000</td>\n",
       "    </tr>\n",
       "    <tr>\n",
       "      <th>75%</th>\n",
       "      <td>933.500000</td>\n",
       "      <td>1.000000</td>\n",
       "      <td>1.000000</td>\n",
       "      <td>1.000000</td>\n",
       "      <td>1.000000</td>\n",
       "      <td>1.000000</td>\n",
       "      <td>1.000000</td>\n",
       "      <td>1.000000</td>\n",
       "      <td>1.000000</td>\n",
       "      <td>1.000000</td>\n",
       "      <td>...</td>\n",
       "      <td>0.000000</td>\n",
       "      <td>0.000000</td>\n",
       "      <td>0.000000</td>\n",
       "      <td>0.000000</td>\n",
       "      <td>0.000000</td>\n",
       "      <td>0.000000</td>\n",
       "      <td>0.000000</td>\n",
       "      <td>0.000000</td>\n",
       "      <td>0.000000</td>\n",
       "      <td>0.000000</td>\n",
       "    </tr>\n",
       "    <tr>\n",
       "      <th>max</th>\n",
       "      <td>1009.000000</td>\n",
       "      <td>1.000000</td>\n",
       "      <td>1.000000</td>\n",
       "      <td>1.000000</td>\n",
       "      <td>1.000000</td>\n",
       "      <td>1.000000</td>\n",
       "      <td>1.000000</td>\n",
       "      <td>1.000000</td>\n",
       "      <td>1.000000</td>\n",
       "      <td>1.000000</td>\n",
       "      <td>...</td>\n",
       "      <td>1.000000</td>\n",
       "      <td>1.000000</td>\n",
       "      <td>1.000000</td>\n",
       "      <td>1.000000</td>\n",
       "      <td>1.000000</td>\n",
       "      <td>1.000000</td>\n",
       "      <td>1.000000</td>\n",
       "      <td>1.000000</td>\n",
       "      <td>1.000000</td>\n",
       "      <td>1.000000</td>\n",
       "    </tr>\n",
       "  </tbody>\n",
       "</table>\n",
       "<p>8 rows × 65 columns</p>\n",
       "</div>"
      ],
      "text/plain": [
       "                id  sudden_fever    headache  mouth_bleed  nose_bleed  \\\n",
       "count   303.000000    303.000000  303.000000   303.000000  303.000000   \n",
       "mean    858.000000      0.577558    0.462046     0.458746    0.504950   \n",
       "std      87.612784      0.494765    0.499382     0.499120    0.500803   \n",
       "min     707.000000      0.000000    0.000000     0.000000    0.000000   \n",
       "25%     782.500000      0.000000    0.000000     0.000000    0.000000   \n",
       "50%     858.000000      1.000000    0.000000     0.000000    1.000000   \n",
       "75%     933.500000      1.000000    1.000000     1.000000    1.000000   \n",
       "max    1009.000000      1.000000    1.000000     1.000000    1.000000   \n",
       "\n",
       "       muscle_pain  joint_pain    vomiting        rash    diarrhea  ...  \\\n",
       "count   303.000000  303.000000  303.000000  303.000000  303.000000  ...   \n",
       "mean      0.531353    0.541254    0.488449    0.448845    0.458746  ...   \n",
       "std       0.499842    0.499120    0.500693    0.498199    0.499120  ...   \n",
       "min       0.000000    0.000000    0.000000    0.000000    0.000000  ...   \n",
       "25%       0.000000    0.000000    0.000000    0.000000    0.000000  ...   \n",
       "50%       1.000000    1.000000    0.000000    0.000000    0.000000  ...   \n",
       "75%       1.000000    1.000000    1.000000    1.000000    1.000000  ...   \n",
       "max       1.000000    1.000000    1.000000    1.000000    1.000000  ...   \n",
       "\n",
       "       lymph_swells  breathing_restriction  toe_inflammation  \\\n",
       "count    303.000000             303.000000        303.000000   \n",
       "mean       0.145215               0.092409          0.099010   \n",
       "std        0.352900               0.290082          0.299169   \n",
       "min        0.000000               0.000000          0.000000   \n",
       "25%        0.000000               0.000000          0.000000   \n",
       "50%        0.000000               0.000000          0.000000   \n",
       "75%        0.000000               0.000000          0.000000   \n",
       "max        1.000000               1.000000          1.000000   \n",
       "\n",
       "       finger_inflammation  lips_irritation   itchiness      ulcers  \\\n",
       "count           303.000000       303.000000  303.000000  303.000000   \n",
       "mean              0.102310         0.118812    0.165017    0.128713   \n",
       "std               0.303557         0.324102    0.371809    0.335436   \n",
       "min               0.000000         0.000000    0.000000    0.000000   \n",
       "25%               0.000000         0.000000    0.000000    0.000000   \n",
       "50%               0.000000         0.000000    0.000000    0.000000   \n",
       "75%               0.000000         0.000000    0.000000    0.000000   \n",
       "max               1.000000         1.000000    1.000000    1.000000   \n",
       "\n",
       "       toenail_loss  speech_problem  bullseye_rash  \n",
       "count    303.000000      303.000000     303.000000  \n",
       "mean       0.122112        0.052805       0.033003  \n",
       "std        0.327957        0.224015       0.178941  \n",
       "min        0.000000        0.000000       0.000000  \n",
       "25%        0.000000        0.000000       0.000000  \n",
       "50%        0.000000        0.000000       0.000000  \n",
       "75%        0.000000        0.000000       0.000000  \n",
       "max        1.000000        1.000000       1.000000  \n",
       "\n",
       "[8 rows x 65 columns]"
      ]
     },
     "execution_count": 28,
     "metadata": {},
     "output_type": "execute_result"
    }
   ],
   "source": [
    "df1.describe()"
   ]
  },
  {
   "cell_type": "code",
   "execution_count": 29,
   "id": "03efd600",
   "metadata": {
    "execution": {
     "iopub.execute_input": "2023-06-18T16:58:47.511399Z",
     "iopub.status.busy": "2023-06-18T16:58:47.511002Z",
     "iopub.status.idle": "2023-06-18T16:58:47.557798Z",
     "shell.execute_reply": "2023-06-18T16:58:47.556470Z"
    },
    "papermill": {
     "duration": 0.07077,
     "end_time": "2023-06-18T16:58:47.560514",
     "exception": false,
     "start_time": "2023-06-18T16:58:47.489744",
     "status": "completed"
    },
    "tags": []
   },
   "outputs": [
    {
     "data": {
      "text/html": [
       "<div>\n",
       "<style scoped>\n",
       "    .dataframe tbody tr th:only-of-type {\n",
       "        vertical-align: middle;\n",
       "    }\n",
       "\n",
       "    .dataframe tbody tr th {\n",
       "        vertical-align: top;\n",
       "    }\n",
       "\n",
       "    .dataframe thead th {\n",
       "        text-align: right;\n",
       "    }\n",
       "</style>\n",
       "<table border=\"1\" class=\"dataframe\">\n",
       "  <thead>\n",
       "    <tr style=\"text-align: right;\">\n",
       "      <th></th>\n",
       "      <th>id</th>\n",
       "      <th>sudden_fever</th>\n",
       "      <th>headache</th>\n",
       "      <th>mouth_bleed</th>\n",
       "      <th>nose_bleed</th>\n",
       "      <th>muscle_pain</th>\n",
       "      <th>joint_pain</th>\n",
       "      <th>vomiting</th>\n",
       "      <th>rash</th>\n",
       "      <th>diarrhea</th>\n",
       "      <th>...</th>\n",
       "      <th>lymph_swells</th>\n",
       "      <th>breathing_restriction</th>\n",
       "      <th>toe_inflammation</th>\n",
       "      <th>finger_inflammation</th>\n",
       "      <th>lips_irritation</th>\n",
       "      <th>itchiness</th>\n",
       "      <th>ulcers</th>\n",
       "      <th>toenail_loss</th>\n",
       "      <th>speech_problem</th>\n",
       "      <th>bullseye_rash</th>\n",
       "    </tr>\n",
       "  </thead>\n",
       "  <tbody>\n",
       "    <tr>\n",
       "      <th>0</th>\n",
       "      <td>707</td>\n",
       "      <td>0.0</td>\n",
       "      <td>0.0</td>\n",
       "      <td>0.0</td>\n",
       "      <td>0.0</td>\n",
       "      <td>0.0</td>\n",
       "      <td>0.0</td>\n",
       "      <td>0.0</td>\n",
       "      <td>0.0</td>\n",
       "      <td>0.0</td>\n",
       "      <td>...</td>\n",
       "      <td>0.0</td>\n",
       "      <td>0.0</td>\n",
       "      <td>0.0</td>\n",
       "      <td>0.0</td>\n",
       "      <td>0.0</td>\n",
       "      <td>0.0</td>\n",
       "      <td>0.0</td>\n",
       "      <td>0.0</td>\n",
       "      <td>0.0</td>\n",
       "      <td>0.0</td>\n",
       "    </tr>\n",
       "    <tr>\n",
       "      <th>1</th>\n",
       "      <td>708</td>\n",
       "      <td>1.0</td>\n",
       "      <td>1.0</td>\n",
       "      <td>0.0</td>\n",
       "      <td>1.0</td>\n",
       "      <td>0.0</td>\n",
       "      <td>1.0</td>\n",
       "      <td>1.0</td>\n",
       "      <td>1.0</td>\n",
       "      <td>1.0</td>\n",
       "      <td>...</td>\n",
       "      <td>0.0</td>\n",
       "      <td>0.0</td>\n",
       "      <td>0.0</td>\n",
       "      <td>0.0</td>\n",
       "      <td>0.0</td>\n",
       "      <td>0.0</td>\n",
       "      <td>0.0</td>\n",
       "      <td>0.0</td>\n",
       "      <td>0.0</td>\n",
       "      <td>0.0</td>\n",
       "    </tr>\n",
       "    <tr>\n",
       "      <th>2</th>\n",
       "      <td>709</td>\n",
       "      <td>1.0</td>\n",
       "      <td>1.0</td>\n",
       "      <td>0.0</td>\n",
       "      <td>1.0</td>\n",
       "      <td>1.0</td>\n",
       "      <td>1.0</td>\n",
       "      <td>1.0</td>\n",
       "      <td>0.0</td>\n",
       "      <td>1.0</td>\n",
       "      <td>...</td>\n",
       "      <td>0.0</td>\n",
       "      <td>0.0</td>\n",
       "      <td>0.0</td>\n",
       "      <td>0.0</td>\n",
       "      <td>0.0</td>\n",
       "      <td>1.0</td>\n",
       "      <td>0.0</td>\n",
       "      <td>0.0</td>\n",
       "      <td>0.0</td>\n",
       "      <td>0.0</td>\n",
       "    </tr>\n",
       "    <tr>\n",
       "      <th>3</th>\n",
       "      <td>710</td>\n",
       "      <td>0.0</td>\n",
       "      <td>1.0</td>\n",
       "      <td>0.0</td>\n",
       "      <td>0.0</td>\n",
       "      <td>0.0</td>\n",
       "      <td>1.0</td>\n",
       "      <td>1.0</td>\n",
       "      <td>1.0</td>\n",
       "      <td>0.0</td>\n",
       "      <td>...</td>\n",
       "      <td>0.0</td>\n",
       "      <td>0.0</td>\n",
       "      <td>0.0</td>\n",
       "      <td>0.0</td>\n",
       "      <td>0.0</td>\n",
       "      <td>0.0</td>\n",
       "      <td>0.0</td>\n",
       "      <td>0.0</td>\n",
       "      <td>0.0</td>\n",
       "      <td>0.0</td>\n",
       "    </tr>\n",
       "    <tr>\n",
       "      <th>4</th>\n",
       "      <td>711</td>\n",
       "      <td>0.0</td>\n",
       "      <td>0.0</td>\n",
       "      <td>1.0</td>\n",
       "      <td>0.0</td>\n",
       "      <td>1.0</td>\n",
       "      <td>1.0</td>\n",
       "      <td>0.0</td>\n",
       "      <td>0.0</td>\n",
       "      <td>1.0</td>\n",
       "      <td>...</td>\n",
       "      <td>0.0</td>\n",
       "      <td>0.0</td>\n",
       "      <td>0.0</td>\n",
       "      <td>0.0</td>\n",
       "      <td>0.0</td>\n",
       "      <td>0.0</td>\n",
       "      <td>0.0</td>\n",
       "      <td>0.0</td>\n",
       "      <td>0.0</td>\n",
       "      <td>0.0</td>\n",
       "    </tr>\n",
       "    <tr>\n",
       "      <th>5</th>\n",
       "      <td>712</td>\n",
       "      <td>0.0</td>\n",
       "      <td>1.0</td>\n",
       "      <td>0.0</td>\n",
       "      <td>0.0</td>\n",
       "      <td>1.0</td>\n",
       "      <td>1.0</td>\n",
       "      <td>0.0</td>\n",
       "      <td>0.0</td>\n",
       "      <td>1.0</td>\n",
       "      <td>...</td>\n",
       "      <td>0.0</td>\n",
       "      <td>0.0</td>\n",
       "      <td>0.0</td>\n",
       "      <td>0.0</td>\n",
       "      <td>0.0</td>\n",
       "      <td>0.0</td>\n",
       "      <td>0.0</td>\n",
       "      <td>0.0</td>\n",
       "      <td>0.0</td>\n",
       "      <td>0.0</td>\n",
       "    </tr>\n",
       "    <tr>\n",
       "      <th>6</th>\n",
       "      <td>713</td>\n",
       "      <td>1.0</td>\n",
       "      <td>0.0</td>\n",
       "      <td>1.0</td>\n",
       "      <td>0.0</td>\n",
       "      <td>1.0</td>\n",
       "      <td>1.0</td>\n",
       "      <td>1.0</td>\n",
       "      <td>1.0</td>\n",
       "      <td>0.0</td>\n",
       "      <td>...</td>\n",
       "      <td>0.0</td>\n",
       "      <td>0.0</td>\n",
       "      <td>0.0</td>\n",
       "      <td>0.0</td>\n",
       "      <td>0.0</td>\n",
       "      <td>0.0</td>\n",
       "      <td>0.0</td>\n",
       "      <td>0.0</td>\n",
       "      <td>0.0</td>\n",
       "      <td>0.0</td>\n",
       "    </tr>\n",
       "    <tr>\n",
       "      <th>7</th>\n",
       "      <td>714</td>\n",
       "      <td>0.0</td>\n",
       "      <td>0.0</td>\n",
       "      <td>0.0</td>\n",
       "      <td>0.0</td>\n",
       "      <td>1.0</td>\n",
       "      <td>0.0</td>\n",
       "      <td>1.0</td>\n",
       "      <td>0.0</td>\n",
       "      <td>0.0</td>\n",
       "      <td>...</td>\n",
       "      <td>0.0</td>\n",
       "      <td>0.0</td>\n",
       "      <td>1.0</td>\n",
       "      <td>0.0</td>\n",
       "      <td>0.0</td>\n",
       "      <td>0.0</td>\n",
       "      <td>0.0</td>\n",
       "      <td>0.0</td>\n",
       "      <td>0.0</td>\n",
       "      <td>0.0</td>\n",
       "    </tr>\n",
       "    <tr>\n",
       "      <th>8</th>\n",
       "      <td>715</td>\n",
       "      <td>1.0</td>\n",
       "      <td>0.0</td>\n",
       "      <td>0.0</td>\n",
       "      <td>0.0</td>\n",
       "      <td>1.0</td>\n",
       "      <td>1.0</td>\n",
       "      <td>1.0</td>\n",
       "      <td>0.0</td>\n",
       "      <td>0.0</td>\n",
       "      <td>...</td>\n",
       "      <td>0.0</td>\n",
       "      <td>0.0</td>\n",
       "      <td>0.0</td>\n",
       "      <td>0.0</td>\n",
       "      <td>0.0</td>\n",
       "      <td>0.0</td>\n",
       "      <td>0.0</td>\n",
       "      <td>0.0</td>\n",
       "      <td>0.0</td>\n",
       "      <td>0.0</td>\n",
       "    </tr>\n",
       "    <tr>\n",
       "      <th>9</th>\n",
       "      <td>716</td>\n",
       "      <td>0.0</td>\n",
       "      <td>1.0</td>\n",
       "      <td>0.0</td>\n",
       "      <td>0.0</td>\n",
       "      <td>0.0</td>\n",
       "      <td>1.0</td>\n",
       "      <td>1.0</td>\n",
       "      <td>0.0</td>\n",
       "      <td>1.0</td>\n",
       "      <td>...</td>\n",
       "      <td>0.0</td>\n",
       "      <td>0.0</td>\n",
       "      <td>0.0</td>\n",
       "      <td>0.0</td>\n",
       "      <td>0.0</td>\n",
       "      <td>0.0</td>\n",
       "      <td>0.0</td>\n",
       "      <td>0.0</td>\n",
       "      <td>0.0</td>\n",
       "      <td>0.0</td>\n",
       "    </tr>\n",
       "  </tbody>\n",
       "</table>\n",
       "<p>10 rows × 65 columns</p>\n",
       "</div>"
      ],
      "text/plain": [
       "    id  sudden_fever  headache  mouth_bleed  nose_bleed  muscle_pain  \\\n",
       "0  707           0.0       0.0          0.0         0.0          0.0   \n",
       "1  708           1.0       1.0          0.0         1.0          0.0   \n",
       "2  709           1.0       1.0          0.0         1.0          1.0   \n",
       "3  710           0.0       1.0          0.0         0.0          0.0   \n",
       "4  711           0.0       0.0          1.0         0.0          1.0   \n",
       "5  712           0.0       1.0          0.0         0.0          1.0   \n",
       "6  713           1.0       0.0          1.0         0.0          1.0   \n",
       "7  714           0.0       0.0          0.0         0.0          1.0   \n",
       "8  715           1.0       0.0          0.0         0.0          1.0   \n",
       "9  716           0.0       1.0          0.0         0.0          0.0   \n",
       "\n",
       "   joint_pain  vomiting  rash  diarrhea  ...  lymph_swells  \\\n",
       "0         0.0       0.0   0.0       0.0  ...           0.0   \n",
       "1         1.0       1.0   1.0       1.0  ...           0.0   \n",
       "2         1.0       1.0   0.0       1.0  ...           0.0   \n",
       "3         1.0       1.0   1.0       0.0  ...           0.0   \n",
       "4         1.0       0.0   0.0       1.0  ...           0.0   \n",
       "5         1.0       0.0   0.0       1.0  ...           0.0   \n",
       "6         1.0       1.0   1.0       0.0  ...           0.0   \n",
       "7         0.0       1.0   0.0       0.0  ...           0.0   \n",
       "8         1.0       1.0   0.0       0.0  ...           0.0   \n",
       "9         1.0       1.0   0.0       1.0  ...           0.0   \n",
       "\n",
       "   breathing_restriction  toe_inflammation  finger_inflammation  \\\n",
       "0                    0.0               0.0                  0.0   \n",
       "1                    0.0               0.0                  0.0   \n",
       "2                    0.0               0.0                  0.0   \n",
       "3                    0.0               0.0                  0.0   \n",
       "4                    0.0               0.0                  0.0   \n",
       "5                    0.0               0.0                  0.0   \n",
       "6                    0.0               0.0                  0.0   \n",
       "7                    0.0               1.0                  0.0   \n",
       "8                    0.0               0.0                  0.0   \n",
       "9                    0.0               0.0                  0.0   \n",
       "\n",
       "   lips_irritation  itchiness  ulcers  toenail_loss  speech_problem  \\\n",
       "0              0.0        0.0     0.0           0.0             0.0   \n",
       "1              0.0        0.0     0.0           0.0             0.0   \n",
       "2              0.0        1.0     0.0           0.0             0.0   \n",
       "3              0.0        0.0     0.0           0.0             0.0   \n",
       "4              0.0        0.0     0.0           0.0             0.0   \n",
       "5              0.0        0.0     0.0           0.0             0.0   \n",
       "6              0.0        0.0     0.0           0.0             0.0   \n",
       "7              0.0        0.0     0.0           0.0             0.0   \n",
       "8              0.0        0.0     0.0           0.0             0.0   \n",
       "9              0.0        0.0     0.0           0.0             0.0   \n",
       "\n",
       "   bullseye_rash  \n",
       "0            0.0  \n",
       "1            0.0  \n",
       "2            0.0  \n",
       "3            0.0  \n",
       "4            0.0  \n",
       "5            0.0  \n",
       "6            0.0  \n",
       "7            0.0  \n",
       "8            0.0  \n",
       "9            0.0  \n",
       "\n",
       "[10 rows x 65 columns]"
      ]
     },
     "execution_count": 29,
     "metadata": {},
     "output_type": "execute_result"
    }
   ],
   "source": [
    "df1.head(10)"
   ]
  },
  {
   "cell_type": "code",
   "execution_count": 30,
   "id": "dca4e524",
   "metadata": {
    "execution": {
     "iopub.execute_input": "2023-06-18T16:58:47.603428Z",
     "iopub.status.busy": "2023-06-18T16:58:47.602970Z",
     "iopub.status.idle": "2023-06-18T16:58:47.613016Z",
     "shell.execute_reply": "2023-06-18T16:58:47.611955Z"
    },
    "papermill": {
     "duration": 0.034017,
     "end_time": "2023-06-18T16:58:47.615185",
     "exception": false,
     "start_time": "2023-06-18T16:58:47.581168",
     "status": "completed"
    },
    "tags": []
   },
   "outputs": [
    {
     "data": {
      "text/plain": [
       "id                0\n",
       "sudden_fever      0\n",
       "headache          0\n",
       "mouth_bleed       0\n",
       "nose_bleed        0\n",
       "                 ..\n",
       "itchiness         0\n",
       "ulcers            0\n",
       "toenail_loss      0\n",
       "speech_problem    0\n",
       "bullseye_rash     0\n",
       "Length: 65, dtype: int64"
      ]
     },
     "execution_count": 30,
     "metadata": {},
     "output_type": "execute_result"
    }
   ],
   "source": [
    "df1.isna().sum()"
   ]
  },
  {
   "cell_type": "code",
   "execution_count": 31,
   "id": "b700c145",
   "metadata": {
    "execution": {
     "iopub.execute_input": "2023-06-18T16:58:47.659715Z",
     "iopub.status.busy": "2023-06-18T16:58:47.659220Z",
     "iopub.status.idle": "2023-06-18T16:58:47.669237Z",
     "shell.execute_reply": "2023-06-18T16:58:47.667869Z"
    },
    "papermill": {
     "duration": 0.035051,
     "end_time": "2023-06-18T16:58:47.671567",
     "exception": false,
     "start_time": "2023-06-18T16:58:47.636516",
     "status": "completed"
    },
    "tags": []
   },
   "outputs": [
    {
     "data": {
      "text/plain": [
       "id                  int64\n",
       "sudden_fever      float64\n",
       "headache          float64\n",
       "mouth_bleed       float64\n",
       "nose_bleed        float64\n",
       "                   ...   \n",
       "itchiness         float64\n",
       "ulcers            float64\n",
       "toenail_loss      float64\n",
       "speech_problem    float64\n",
       "bullseye_rash     float64\n",
       "Length: 65, dtype: object"
      ]
     },
     "execution_count": 31,
     "metadata": {},
     "output_type": "execute_result"
    }
   ],
   "source": [
    "df1.dtypes"
   ]
  },
  {
   "cell_type": "code",
   "execution_count": 32,
   "id": "7652498c",
   "metadata": {
    "execution": {
     "iopub.execute_input": "2023-06-18T16:58:47.715015Z",
     "iopub.status.busy": "2023-06-18T16:58:47.714575Z",
     "iopub.status.idle": "2023-06-18T16:58:47.724319Z",
     "shell.execute_reply": "2023-06-18T16:58:47.722681Z"
    },
    "papermill": {
     "duration": 0.034888,
     "end_time": "2023-06-18T16:58:47.727138",
     "exception": false,
     "start_time": "2023-06-18T16:58:47.692250",
     "status": "completed"
    },
    "tags": []
   },
   "outputs": [
    {
     "data": {
      "text/plain": [
       "-1.9703142864164183"
      ]
     },
     "execution_count": 32,
     "metadata": {},
     "output_type": "execute_result"
    }
   ],
   "source": [
    "np.sqrt(df1['rash']).kurt()"
   ]
  },
  {
   "cell_type": "code",
   "execution_count": 33,
   "id": "4dd2e959",
   "metadata": {
    "execution": {
     "iopub.execute_input": "2023-06-18T16:58:47.772509Z",
     "iopub.status.busy": "2023-06-18T16:58:47.772067Z",
     "iopub.status.idle": "2023-06-18T16:58:48.290346Z",
     "shell.execute_reply": "2023-06-18T16:58:48.289063Z"
    },
    "papermill": {
     "duration": 0.545062,
     "end_time": "2023-06-18T16:58:48.292849",
     "exception": false,
     "start_time": "2023-06-18T16:58:47.747787",
     "status": "completed"
    },
    "tags": []
   },
   "outputs": [
    {
     "data": {
      "text/plain": [
       "<seaborn.axisgrid.FacetGrid at 0x7f6d00ecd060>"
      ]
     },
     "execution_count": 33,
     "metadata": {},
     "output_type": "execute_result"
    },
    {
     "data": {
      "image/png": "[encoded data removed]",
      "text/plain": [
       "<Figure size 500x500 with 1 Axes>"
      ]
     },
     "metadata": {},
     "output_type": "display_data"
    }
   ],
   "source": [
    "sns.displot(df1['rash'], kind='kde')"
   ]
  },
  {
   "cell_type": "code",
   "execution_count": 34,
   "id": "0a59eb77",
   "metadata": {
    "execution": {
     "iopub.execute_input": "2023-06-18T16:58:48.340014Z",
     "iopub.status.busy": "2023-06-18T16:58:48.338944Z",
     "iopub.status.idle": "2023-06-18T16:58:48.572046Z",
     "shell.execute_reply": "2023-06-18T16:58:48.570548Z"
    },
    "papermill": {
     "duration": 0.259465,
     "end_time": "2023-06-18T16:58:48.575070",
     "exception": false,
     "start_time": "2023-06-18T16:58:48.315605",
     "status": "completed"
    },
    "tags": []
   },
   "outputs": [
    {
     "data": {
      "text/plain": [
       "<Axes: >"
      ]
     },
     "execution_count": 34,
     "metadata": {},
     "output_type": "execute_result"
    },
    {
     "data": {
      "image/png": "[encoded data removed]",
      "text/plain": [
       "<Figure size 640x480 with 1 Axes>"
      ]
     },
     "metadata": {},
     "output_type": "display_data"
    }
   ],
   "source": [
    "sns.boxplot(df1['rash'])"
   ]
  },
  {
   "cell_type": "code",
   "execution_count": 35,
   "id": "33176147",
   "metadata": {
    "execution": {
     "iopub.execute_input": "2023-06-18T16:58:48.623481Z",
     "iopub.status.busy": "2023-06-18T16:58:48.622175Z",
     "iopub.status.idle": "2023-06-18T16:58:48.894543Z",
     "shell.execute_reply": "2023-06-18T16:58:48.893053Z"
    },
    "papermill": {
     "duration": 0.300329,
     "end_time": "2023-06-18T16:58:48.897350",
     "exception": false,
     "start_time": "2023-06-18T16:58:48.597021",
     "status": "completed"
    },
    "tags": []
   },
   "outputs": [
    {
     "data": {
      "text/plain": [
       "<Axes: xlabel='rash', ylabel='count'>"
      ]
     },
     "execution_count": 35,
     "metadata": {},
     "output_type": "execute_result"
    },
    {
     "data": {
      "image/png": "[encoded data removed]",
      "text/plain": [
       "<Figure size 640x480 with 1 Axes>"
      ]
     },
     "metadata": {},
     "output_type": "display_data"
    }
   ],
   "source": [
    "sns.countplot(data=df1, x='rash')"
   ]
  },
  {
   "cell_type": "code",
   "execution_count": null,
   "id": "6b6841fb",
   "metadata": {
    "papermill": {
     "duration": 0.029252,
     "end_time": "2023-06-18T16:58:48.949861",
     "exception": false,
     "start_time": "2023-06-18T16:58:48.920609",
     "status": "completed"
    },
    "tags": []
   },
   "outputs": [],
   "source": []
  }
 ],
 "metadata": {
  "kernelspec": {
   "display_name": "Python 3",
   "language": "python",
   "name": "python3"
  },
  "language_info": {
   "codemirror_mode": {
    "name": "ipython",
    "version": 3
   },
   "file_extension": ".py",
   "mimetype": "text/x-python",
   "name": "python",
   "nbconvert_exporter": "python",
   "pygments_lexer": "ipython3",
   "version": "3.10.10"
  },
  "papermill": {
   "default_parameters": {},
   "duration": 22.038207,
   "end_time": "2023-06-18T16:58:50.107440",
   "environment_variables": {},
   "exception": null,
   "input_path": "__notebook__.ipynb",
   "output_path": "__notebook__.ipynb",
   "parameters": {},
   "start_time": "2023-06-18T16:58:28.069233",
   "version": "2.4.0"
  }
 },
 "nbformat": 4,
 "nbformat_minor": 5
}
